{
 "cells": [
  {
   "cell_type": "code",
   "execution_count": null,
   "metadata": {},
   "outputs": [],
   "source": [
    "## 5 number-summary\n",
    "## 5 number summary -- [min, 1st-quartile, median, 3rd-quartile, max]\n",
    "## provide a quick overview of the distribution of the dataset\n",
    "##  min : minimum  value of the data\n",
    "## 1st-quartile [a number] : 25 percentile i.e 25% of the data is below this value\n",
    "## median : 50 percentile i.e 50% of the data is below this value.\n",
    "## 3rd-quatile : 75 percentile ie. 75% of the data is below this value.\n",
    "## max : maximum value of the data.\n",
    "\n",
    "## How this is valuable : \n",
    "        ## this helps identifies skewness in the data and detect outliers.\n",
    "        ## box plot represents the 5 number summary.\n",
    "    "
   ]
  },
  {
   "cell_type": "code",
   "execution_count": 1,
   "metadata": {},
   "outputs": [
    {
     "name": "stdout",
     "output_type": "stream",
     "text": [
      "Minimum: 2\n",
      "Q1 (25th percentile): 7.0\n",
      "Median (50th percentile): 15.0\n",
      "Q3 (75th percentile): 21.0\n",
      "Maximum: 25\n"
     ]
    }
   ],
   "source": [
    "import numpy as np\n",
    "import pandas as pd\n",
    "\n",
    "def five_number_summary(data):\n",
    "    # Convert to pandas Series for easy percentile handling\n",
    "    series = pd.Series(data)\n",
    "\n",
    "    summary = {\n",
    "        \"Minimum\": series.min(),\n",
    "        \"Q1 (25th percentile)\": series.quantile(0.25),\n",
    "        \"Median (50th percentile)\": series.median(),\n",
    "        \"Q3 (75th percentile)\": series.quantile(0.75),\n",
    "        \"Maximum\": series.max()\n",
    "    }\n",
    "\n",
    "    return summary\n",
    "\n",
    "# Example usage:\n",
    "data = [2, 4, 7, 10, 15, 18, 21, 23, 25]\n",
    "summary = five_number_summary(data)\n",
    "\n",
    "for k, v in summary.items():\n",
    "    print(f\"{k}: {v}\")\n"
   ]
  },
  {
   "cell_type": "code",
   "execution_count": 17,
   "metadata": {},
   "outputs": [
    {
     "name": "stdout",
     "output_type": "stream",
     "text": [
      "5-number summary:\n",
      "Min: 100.0\n",
      "Q1: 126.25\n",
      "Median: 150.0\n",
      "Q3: 232.5\n",
      "Max: 1000.0\n"
     ]
    },
    {
     "data": {
      "image/png": "[encoded data removed]",
      "text/plain": [
       "<Figure size 600x400 with 1 Axes>"
      ]
     },
     "metadata": {},
     "output_type": "display_data"
    }
   ],
   "source": [
    "## supose i have a csv file\n",
    "import pandas as pd\n",
    "import matplotlib.pyplot as plt\n",
    "\n",
    "# Load CSV\n",
    "df = pd.read_csv(\"data1.csv\")\n",
    "\n",
    "# Compute 5-number summary for y\n",
    "summary = df['y'].describe(percentiles=[0.25, 0.5, 0.75])\n",
    "print(\"5-number summary:\")\n",
    "print(f\"Min: {summary['min']}\")\n",
    "print(f\"Q1: {summary['25%']}\")\n",
    "print(f\"Median: {summary['50%']}\")\n",
    "print(f\"Q3: {summary['75%']}\")\n",
    "print(f\"Max: {summary['max']}\")\n",
    "\n",
    "# Plot box plot\n",
    "plt.figure(figsize=(6, 4))\n",
    "plt.boxplot(df['y'],vert=False)\n",
    "plt.title(\"Box Plot of y\")\n",
    "plt.xlabel(\"y\")\n",
    "plt.grid(True)\n",
    "plt.show()"
   ]
  },
  {
   "cell_type": "code",
   "execution_count": 22,
   "metadata": {},
   "outputs": [
    {
     "data": {
      "image/png": "[encoded data removed]",
      "text/plain": [
       "<Figure size 600x400 with 1 Axes>"
      ]
     },
     "metadata": {},
     "output_type": "display_data"
    }
   ],
   "source": [
    "# Plot box plot\n",
    "\n",
    "import pandas as pd\n",
    "df = pd.read_csv(\"data1.csv\")\n",
    "\n",
    "import seaborn as sns\n",
    "plt.figure(figsize=(6, 4))\n",
    "sns.boxplot(x='y',data=df, hue='z')\n",
    "#plt.boxplot(x=df['x'])\n",
    "plt.title(\"Box Plot of y\")\n",
    "plt.xlabel(\"y\")\n",
    "plt.grid(True)\n",
    "plt.show()"
   ]
  },
  {
   "cell_type": "code",
   "execution_count": null,
   "metadata": {},
   "outputs": [],
   "source": [
    "## mean, variance and standard deviation"
   ]
  },
  {
   "cell_type": "code",
   "execution_count": 23,
   "metadata": {},
   "outputs": [
    {
     "name": "stdout",
     "output_type": "stream",
     "text": [
      "Mean: 18.0\n",
      "Population Variance: 24.0\n",
      "Population Std Dev: 4.898979485566356\n",
      "Sample Variance: 27.428571428571427\n",
      "Sample Std Dev: 5.237229365663817\n"
     ]
    }
   ],
   "source": [
    "import numpy as np\n",
    "\n",
    "data = [10, 12, 23, 23, 16, 23, 21, 16]\n",
    "\n",
    "mean = np.mean(data)\n",
    "variance = np.var(data)           # For population\n",
    "std_dev = np.std(data)            # For population\n",
    "\n",
    "# For sample statistics\n",
    "sample_variance = np.var(data, ddof=1)\n",
    "sample_std_dev = np.std(data, ddof=1)\n",
    "\n",
    "print(f\"Mean: {mean}\")\n",
    "print(f\"Population Variance: {variance}\")\n",
    "print(f\"Population Std Dev: {std_dev}\")\n",
    "print(f\"Sample Variance: {sample_variance}\")\n",
    "print(f\"Sample Std Dev: {sample_std_dev}\")\n",
    "\n",
    "\n"
   ]
  },
  {
   "cell_type": "code",
   "execution_count": 29,
   "metadata": {},
   "outputs": [
    {
     "name": "stdout",
     "output_type": "stream",
     "text": [
      "mean : 4.909090909090909\n",
      "variance : 13.719008264462808\n",
      "standard deviation : 3.7039179613569746\n"
     ]
    }
   ],
   "source": [
    "data = [3,2,1,4,5,6,10,4,3,2,14]\n",
    "\n",
    "print(\"mean :\",np.mean(data))\n",
    "print(\"variance :\",np.var(data))\n",
    "print(\"standard deviation :\", np.std(data))"
   ]
  }
 ],
 "metadata": {
  "kernelspec": {
   "display_name": "Python 3",
   "language": "python",
   "name": "python3"
  },
  "language_info": {
   "codemirror_mode": {
    "name": "ipython",
    "version": 3
   },
   "file_extension": ".py",
   "mimetype": "text/x-python",
   "name": "python",
   "nbconvert_exporter": "python",
   "pygments_lexer": "ipython3",
   "version": "3.12.0"
  }
 },
 "nbformat": 4,
 "nbformat_minor": 2
}
