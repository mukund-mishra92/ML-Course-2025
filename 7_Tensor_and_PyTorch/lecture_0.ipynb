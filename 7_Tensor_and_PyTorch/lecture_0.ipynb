{
 "cells": [
  {
   "cell_type": "markdown",
   "metadata": {},
   "source": [
    "## what is tensor in pytorch:\n",
    "\"\"\"\n",
    "A tensor is a multi-dimensional array that is used to store data in PyTorch. \n",
    "It is similar to NumPy arrays but has additional capabilities, \n",
    "such as being able to run on GPUs for faster computation. \n",
    "Tensors can be one-dimensional (like a vector), two-dimensional (like a matrix), or multi-dimensional (like a 3D array or higher).\n",
    "Tensors are the fundamental data structure in PyTorch and are used to represent inputs, outputs, and parameters of neural networks.\n",
    "\"\"\"\n",
    "## what tensor actualy means in pytorch:\n",
    "\"\"\"\n",
    "In PyTorch, a tensor is a generalization of matrices to higher dimensions.\n",
    "It can be thought of as a container for data that can be processed by PyTorch's computational graph.\n",
    "Tensors can be created from Python lists or NumPy arrays, \n",
    "and they can be manipulated using various operations such as addition, multiplication, and reshaping.\n",
    "Tensors also support automatic differentiation, which is essential for training neural networks.\n",
    "\"\"\"\n",
    "## why and when it is used:\n",
    "\"\"\"\n",
    "Tensors are used in PyTorch for a variety of reasons:\n",
    "1. **Data Representation**: Tensors are used to represent data in a structured way, making it easy to manipulate and process.\n",
    "2. **Computation**: Tensors support a wide range of mathematical operations, enabling efficient computation on large datasets.\n",
    "3. **GPU Acceleration**: Tensors can be moved to GPUs, allowing for faster computations, especially in deep learning tasks.\n",
    "4. **Automatic Differentiation**: Tensors support automatic differentiation, which is crucial for training neural networks using backpropagation.\n",
    "5. **Interoperability**: Tensors can be easily converted to and from NumPy arrays, making it convenient to integrate with other libraries.\n",
    "Tensors are used whenever you need to represent and manipulate multi-dimensional data in PyTorch, such as images, text, or any numerical data.\n",
    "\"\"\""
   ]
  },
  {
   "cell_type": "code",
   "execution_count": 1,
   "metadata": {},
   "outputs": [],
   "source": [
    "# Creates a tensor (multi-dimensional array).\n",
    "\n",
    "import torch\n",
    "a = torch.tensor([[1, 2], [3, 4]], dtype=torch.float32)"
   ]
  },
  {
   "cell_type": "code",
   "execution_count": 13,
   "metadata": {},
   "outputs": [
    {
     "data": {
      "text/plain": [
       "tensor([1., 2., 3.], dtype=torch.float64)"
      ]
     },
     "execution_count": 13,
     "metadata": {},
     "output_type": "execute_result"
    }
   ],
   "source": [
    "b = torch.tensor([1,2,3], dtype=float)\n",
    "\n",
    "b"
   ]
  },
  {
   "cell_type": "code",
   "execution_count": 11,
   "metadata": {},
   "outputs": [
    {
     "ename": "AttributeError",
     "evalue": "'list' object has no attribute 'tolist'",
     "output_type": "error",
     "traceback": [
      "\u001b[31m---------------------------------------------------------------------------\u001b[39m",
      "\u001b[31mAttributeError\u001b[39m                            Traceback (most recent call last)",
      "\u001b[36mCell\u001b[39m\u001b[36m \u001b[39m\u001b[32mIn[11]\u001b[39m\u001b[32m, line 2\u001b[39m\n\u001b[32m      1\u001b[39m \u001b[38;5;66;03m# converting a pytorch tensor into list\u001b[39;00m\n\u001b[32m----> \u001b[39m\u001b[32m2\u001b[39m c= \u001b[43mb\u001b[49m\u001b[43m.\u001b[49m\u001b[43mtolist\u001b[49m()\n",
      "\u001b[31mAttributeError\u001b[39m: 'list' object has no attribute 'tolist'"
     ]
    }
   ],
   "source": [
    "# converting a pytorch tensor into list\n",
    "\n"
   ]
  },
  {
   "cell_type": "code",
   "execution_count": 14,
   "metadata": {},
   "outputs": [],
   "source": [
    "b_out = b.tolist()\n"
   ]
  },
  {
   "cell_type": "code",
   "execution_count": 15,
   "metadata": {},
   "outputs": [
    {
     "name": "stdout",
     "output_type": "stream",
     "text": [
      "1.0\n",
      "2.0\n",
      "3.0\n"
     ]
    }
   ],
   "source": [
    "for i in b_out:\n",
    "    print(i)"
   ]
  },
  {
   "cell_type": "code",
   "execution_count": 16,
   "metadata": {},
   "outputs": [],
   "source": [
    "b_tensor = torch.tensor(b_out)"
   ]
  },
  {
   "cell_type": "code",
   "execution_count": 17,
   "metadata": {},
   "outputs": [
    {
     "data": {
      "text/plain": [
       "tensor([1., 2., 3.])"
      ]
     },
     "execution_count": 17,
     "metadata": {},
     "output_type": "execute_result"
    }
   ],
   "source": [
    "b_tensor"
   ]
  },
  {
   "cell_type": "code",
   "execution_count": 18,
   "metadata": {},
   "outputs": [
    {
     "name": "stdout",
     "output_type": "stream",
     "text": [
      "[1. 2. 3.]\n"
     ]
    }
   ],
   "source": [
    "b_numpy = b_tensor.numpy()\n",
    "print(b_numpy)"
   ]
  },
  {
   "cell_type": "code",
   "execution_count": 19,
   "metadata": {},
   "outputs": [
    {
     "name": "stdout",
     "output_type": "stream",
     "text": [
      "6.0\n"
     ]
    }
   ],
   "source": [
    "print(sum(b_numpy))"
   ]
  },
  {
   "cell_type": "code",
   "execution_count": 20,
   "metadata": {},
   "outputs": [],
   "source": [
    "b_tensor2 = torch.tensor(b_numpy)"
   ]
  },
  {
   "cell_type": "code",
   "execution_count": 21,
   "metadata": {},
   "outputs": [
    {
     "data": {
      "text/plain": [
       "tensor([1., 2., 3.])"
      ]
     },
     "execution_count": 21,
     "metadata": {},
     "output_type": "execute_result"
    }
   ],
   "source": [
    "b_tensor2"
   ]
  },
  {
   "cell_type": "code",
   "execution_count": 5,
   "metadata": {},
   "outputs": [
    {
     "name": "stdout",
     "output_type": "stream",
     "text": [
      "1\n",
      "2\n",
      "3\n"
     ]
    }
   ],
   "source": [
    "for i in b:\n",
    "    print(int(i))"
   ]
  },
  {
   "cell_type": "code",
   "execution_count": 2,
   "metadata": {},
   "outputs": [
    {
     "name": "stdout",
     "output_type": "stream",
     "text": [
      "tensor([[1., 2.],\n",
      "        [3., 4.]])\n"
     ]
    }
   ],
   "source": [
    "print(a)"
   ]
  },
  {
   "cell_type": "code",
   "execution_count": 26,
   "metadata": {},
   "outputs": [],
   "source": [
    "a = torch.tensor([[2.5,3],[3.5,6]], dtype=torch.float32)\n",
    "b = torch.tensor([[2.5,3],[3.5,6]], dtype=torch.float32)"
   ]
  },
  {
   "cell_type": "code",
   "execution_count": 25,
   "metadata": {},
   "outputs": [
    {
     "data": {
      "text/plain": [
       "torch.Size([2, 2])"
      ]
     },
     "execution_count": 25,
     "metadata": {},
     "output_type": "execute_result"
    }
   ],
   "source": [
    "a.shape"
   ]
  },
  {
   "cell_type": "code",
   "execution_count": 27,
   "metadata": {},
   "outputs": [
    {
     "name": "stdout",
     "output_type": "stream",
     "text": [
      "tensor([5., 6.])\n",
      "tensor([ 7., 12.])\n"
     ]
    }
   ],
   "source": [
    "c = a + b\n",
    "\n",
    "for i in c:\n",
    "    print(i)"
   ]
  },
  {
   "cell_type": "code",
   "execution_count": 28,
   "metadata": {},
   "outputs": [
    {
     "name": "stdout",
     "output_type": "stream",
     "text": [
      "tensor([[ 6.2500,  9.0000],\n",
      "        [12.2500, 36.0000]])\n"
     ]
    }
   ],
   "source": [
    "d = a*b\n",
    "print(d)"
   ]
  },
  {
   "cell_type": "code",
   "execution_count": 14,
   "metadata": {},
   "outputs": [],
   "source": [
    "## pointwise addition\n",
    "c = a+b"
   ]
  },
  {
   "cell_type": "code",
   "execution_count": 15,
   "metadata": {},
   "outputs": [
    {
     "name": "stdout",
     "output_type": "stream",
     "text": [
      "tensor([[ 3.5000,  5.0000],\n",
      "        [ 6.5000, 10.0000]], dtype=torch.float64)\n"
     ]
    }
   ],
   "source": [
    "print(c)"
   ]
  },
  {
   "cell_type": "code",
   "execution_count": 20,
   "metadata": {},
   "outputs": [],
   "source": [
    "l1 = [2,3]\n",
    "l2 = [4,5]"
   ]
  },
  {
   "cell_type": "code",
   "execution_count": 21,
   "metadata": {},
   "outputs": [],
   "source": [
    "l11 = torch.tensor(l1, dtype=torch.int32)\n",
    "l12 = torch.tensor(l2, dtype=torch.int32)"
   ]
  },
  {
   "cell_type": "code",
   "execution_count": 22,
   "metadata": {},
   "outputs": [
    {
     "name": "stdout",
     "output_type": "stream",
     "text": [
      "tensor([6, 8], dtype=torch.int32)\n"
     ]
    }
   ],
   "source": [
    "print(l11+l12)"
   ]
  },
  {
   "cell_type": "code",
   "execution_count": 23,
   "metadata": {},
   "outputs": [
    {
     "name": "stdout",
     "output_type": "stream",
     "text": [
      "tensor([ 8, 15], dtype=torch.int32)\n"
     ]
    }
   ],
   "source": [
    "print(l11*l12)"
   ]
  },
  {
   "cell_type": "code",
   "execution_count": 24,
   "metadata": {},
   "outputs": [],
   "source": [
    "# Creates tensors filled with zeros, ones, or random values.\n",
    "b = torch.zeros((2, 2), dtype=torch.float32)\n",
    "c = torch.ones((2, 2), dtype=torch.float32)\n",
    "d = torch.rand((2, 2), dtype=torch.float32)\n"
   ]
  },
  {
   "cell_type": "code",
   "execution_count": 25,
   "metadata": {},
   "outputs": [
    {
     "data": {
      "text/plain": [
       "tensor([[0., 0.],\n",
       "        [0., 0.]])"
      ]
     },
     "execution_count": 25,
     "metadata": {},
     "output_type": "execute_result"
    }
   ],
   "source": [
    "b"
   ]
  },
  {
   "cell_type": "code",
   "execution_count": 26,
   "metadata": {},
   "outputs": [
    {
     "data": {
      "text/plain": [
       "tensor([[1., 1.],\n",
       "        [1., 1.]])"
      ]
     },
     "execution_count": 26,
     "metadata": {},
     "output_type": "execute_result"
    }
   ],
   "source": [
    "c"
   ]
  },
  {
   "cell_type": "code",
   "execution_count": 27,
   "metadata": {},
   "outputs": [
    {
     "data": {
      "text/plain": [
       "tensor([[0.1691, 0.0955],\n",
       "        [0.3476, 0.4185]])"
      ]
     },
     "execution_count": 27,
     "metadata": {},
     "output_type": "execute_result"
    }
   ],
   "source": [
    "d"
   ]
  },
  {
   "cell_type": "code",
   "execution_count": 28,
   "metadata": {},
   "outputs": [
    {
     "data": {
      "text/plain": [
       "tensor([0., 2., 4., 6., 8.])"
      ]
     },
     "execution_count": 28,
     "metadata": {},
     "output_type": "execute_result"
    }
   ],
   "source": [
    "# Creates a tensor with a specific range of values.\n",
    "# torch.arange(start, end, step, dtype)\n",
    "e = torch.arange(0, 10, step=2, dtype=torch.float32)  # [0, 2, 4, 6, 8]\n",
    "e\n"
   ]
  },
  {
   "cell_type": "code",
   "execution_count": 30,
   "metadata": {},
   "outputs": [
    {
     "data": {
      "text/plain": [
       "tensor([[5., 5.],\n",
       "        [5., 5.]])"
      ]
     },
     "execution_count": 30,
     "metadata": {},
     "output_type": "execute_result"
    }
   ],
   "source": [
    "# Creates a tensor with a specific shape and fills it with a constant value.\n",
    "f = torch.full((2, 2), fill_value=5, dtype=torch.float32)\n",
    "f\n"
   ]
  },
  {
   "cell_type": "code",
   "execution_count": 36,
   "metadata": {},
   "outputs": [
    {
     "data": {
      "text/plain": [
       "tensor([[1., 2.],\n",
       "        [5., 8.]])"
      ]
     },
     "execution_count": 36,
     "metadata": {},
     "output_type": "execute_result"
    }
   ],
   "source": [
    "# Creates a tensor with random integers within a specified range.\n",
    "g = torch.randint(low=0, high=10, size=(2, 2), dtype=torch.float32)  # Random integers between 0 and 9\n",
    "g\n"
   ]
  },
  {
   "cell_type": "code",
   "execution_count": 40,
   "metadata": {},
   "outputs": [
    {
     "data": {
      "text/plain": [
       "tensor([[-0.6511,  0.8123,  1.0287, -0.8221, -0.6259],\n",
       "        [-1.4432,  0.0363, -0.1242, -0.4185,  0.3716],\n",
       "        [-0.0266, -0.2157,  0.3311, -0.5069,  1.1383],\n",
       "        [ 0.5597, -0.3794, -0.9038,  0.5034, -0.0727],\n",
       "        [-1.4445,  0.1906, -0.7374,  0.8758, -0.3280],\n",
       "        [-0.1360, -1.6820,  1.1830,  0.2865, -0.1288],\n",
       "        [-0.9104,  0.4484,  1.0070, -0.2942,  0.0904],\n",
       "        [ 0.9312, -0.9997, -1.2852,  0.7037,  2.4237],\n",
       "        [-0.6649, -1.8626, -0.5184,  0.5948, -0.0379],\n",
       "        [-1.0011,  0.9381, -1.3024,  1.9502,  1.7080]])"
      ]
     },
     "execution_count": 40,
     "metadata": {},
     "output_type": "execute_result"
    }
   ],
   "source": [
    "# Creates a tensor with a specific shape and fills it with random values from a normal distribution.\n",
    "h = torch.randn((10, 5), dtype=torch.float32)  # Random values from a normal distribution\n",
    "h"
   ]
  },
  {
   "cell_type": "code",
   "execution_count": 42,
   "metadata": {},
   "outputs": [
    {
     "data": {
      "text/plain": [
       "tensor([ 0.9496, -0.1034])"
      ]
     },
     "execution_count": 42,
     "metadata": {},
     "output_type": "execute_result"
    }
   ],
   "source": [
    "# Creates a tensor with a specific shape and fills it with random values from a uniform distribution.\n",
    "i = torch.empty((2, 2), dtype=torch.float32).uniform_(-1, 1)  # Random values between -1 and 1\n",
    "sum(i)"
   ]
  },
  {
   "cell_type": "code",
   "execution_count": 43,
   "metadata": {},
   "outputs": [
    {
     "data": {
      "text/plain": [
       "6"
      ]
     },
     "execution_count": 43,
     "metadata": {},
     "output_type": "execute_result"
    }
   ],
   "source": [
    "l = [1,2,3]\n",
    "sum(l)"
   ]
  },
  {
   "cell_type": "code",
   "execution_count": 44,
   "metadata": {},
   "outputs": [
    {
     "name": "stderr",
     "output_type": "stream",
     "text": [
      "<>:1: SyntaxWarning: list indices must be integers or slices, not tuple; perhaps you missed a comma?\n",
      "<>:1: SyntaxWarning: list indices must be integers or slices, not tuple; perhaps you missed a comma?\n",
      "/var/folders/46/qv_lmdyx6j7b2zym7spyl3lm0000gn/T/ipykernel_86014/644602434.py:1: SyntaxWarning: list indices must be integers or slices, not tuple; perhaps you missed a comma?\n",
      "  l = [[1,2,3][2,3,4]]\n"
     ]
    },
    {
     "ename": "TypeError",
     "evalue": "list indices must be integers or slices, not tuple",
     "output_type": "error",
     "traceback": [
      "\u001b[31m---------------------------------------------------------------------------\u001b[39m",
      "\u001b[31mTypeError\u001b[39m                                 Traceback (most recent call last)",
      "\u001b[36mCell\u001b[39m\u001b[36m \u001b[39m\u001b[32mIn[44]\u001b[39m\u001b[32m, line 1\u001b[39m\n\u001b[32m----> \u001b[39m\u001b[32m1\u001b[39m l = [\u001b[43m[\u001b[49m\u001b[32;43m1\u001b[39;49m\u001b[43m,\u001b[49m\u001b[32;43m2\u001b[39;49m\u001b[43m,\u001b[49m\u001b[32;43m3\u001b[39;49m\u001b[43m]\u001b[49m\u001b[43m[\u001b[49m\u001b[32;43m2\u001b[39;49m\u001b[43m,\u001b[49m\u001b[32;43m3\u001b[39;49m\u001b[43m,\u001b[49m\u001b[32;43m4\u001b[39;49m\u001b[43m]\u001b[49m]\n\u001b[32m      2\u001b[39m \u001b[38;5;28msum\u001b[39m(l)\n",
      "\u001b[31mTypeError\u001b[39m: list indices must be integers or slices, not tuple"
     ]
    }
   ],
   "source": [
    "l = [[1,2,3][2,3,4]]\n",
    "sum(l)"
   ]
  },
  {
   "cell_type": "code",
   "execution_count": 47,
   "metadata": {},
   "outputs": [
    {
     "data": {
      "text/plain": [
       "tensor([3., 5., 7.])"
      ]
     },
     "execution_count": 47,
     "metadata": {},
     "output_type": "execute_result"
    }
   ],
   "source": [
    "l = torch.tensor([[1, 2, 3], [2, 3, 4]], dtype=torch.float32)\n",
    "sum(l)  # Sum along the first dimension (columns)"
   ]
  },
  {
   "cell_type": "code",
   "execution_count": 49,
   "metadata": {},
   "outputs": [
    {
     "data": {
      "text/plain": [
       "tensor([[-1.5696,  0.0952, -0.3084, -1.3291, -0.6503],\n",
       "        [ 0.0457, -1.9850,  0.9140,  0.5083,  1.5048],\n",
       "        [ 0.0957, -0.0371,  0.1760,  0.6696,  0.2229],\n",
       "        [-1.1380,  0.5503,  0.8668, -0.5757,  0.5877],\n",
       "        [ 0.6384, -1.4962,  1.7105,  0.9566, -0.1981]])"
      ]
     },
     "execution_count": 49,
     "metadata": {},
     "output_type": "execute_result"
    }
   ],
   "source": [
    "# Creates a tensor with a specific shape and fills it with random values from a uniform distribution.\n",
    "j = torch.empty((5, 5), dtype=torch.float32).normal_(mean=0, std=1)  # Random values from a normal distribution\n",
    "j"
   ]
  },
  {
   "cell_type": "code",
   "execution_count": 50,
   "metadata": {},
   "outputs": [
    {
     "data": {
      "text/plain": [
       "tensor([[ 0.9698,  0.2174, -0.8099],\n",
       "        [ 0.3882, -0.0593,  0.6334],\n",
       "        [ 0.0624, -0.7984, -0.0185]])"
      ]
     },
     "execution_count": 50,
     "metadata": {},
     "output_type": "execute_result"
    }
   ],
   "source": [
    "# Creates a tensor with a specific shape and fills it with random values from a uniform distribution.\n",
    "k = torch.empty((3, 3), dtype=torch.float32).uniform_(-1, 1)  # Random values between -1 and 1\n",
    "k"
   ]
  },
  {
   "cell_type": "code",
   "execution_count": 80,
   "metadata": {},
   "outputs": [],
   "source": [
    "## Gradient and Autograd\n",
    "## very important function for neural network\n",
    "\n",
    "arr = torch.tensor([1,2,3], dtype=torch.float32, requires_grad=True)\n",
    "##print(arr)\n",
    "\n",
    "# Perform some operations on the tensor\n",
    "\n",
    "y = arr**2+5\n",
    "z = y*y+2\n",
    "#print(y)\n",
    "\n",
    "y.backward(torch.ones_like(arr))\n",
    "#\n",
    "\n",
    "\n",
    "#print(y)\n",
    "#print(z.grad)\n"
   ]
  },
  {
   "cell_type": "code",
   "execution_count": 81,
   "metadata": {},
   "outputs": [
    {
     "name": "stdout",
     "output_type": "stream",
     "text": [
      "tensor([2., 4., 6.])\n"
     ]
    }
   ],
   "source": [
    "print(arr.grad)"
   ]
  },
  {
   "cell_type": "code",
   "execution_count": 58,
   "metadata": {},
   "outputs": [
    {
     "name": "stdout",
     "output_type": "stream",
     "text": [
      "tensor([2., 4.])\n"
     ]
    }
   ],
   "source": [
    "x = torch.tensor([1.0, 2.0], requires_grad=True)\n",
    "y = x ** 2\n",
    "y.backward(torch.ones_like(x))\n",
    "print(x.grad)  # [2.0, 4.0]\n"
   ]
  },
  {
   "cell_type": "code",
   "execution_count": 1,
   "metadata": {},
   "outputs": [],
   "source": [
    "## The nn module contains layers, activation functions, loss functions, etc.\n",
    "# i am defining a new neural network class called Net.\n",
    "# It inherits from nn.Module, which is the base class for all PyTorch models.\n",
    "# Ques : Why inherit from nn.Module?\n",
    "\n",
    "#Ans : So you get all the built-in functionalities like \n",
    "# parameter tracking,\n",
    "# .to(device),\n",
    "#  .eval(), and\n",
    "# .train().\n",
    "\n",
    "#def __init__(self):\n",
    "# This is the constructor. \n",
    "# It runs once when you create an object from this class.\n",
    "# You define the layers of the model here.\n",
    "\n",
    "# super(Net, self).__init__()\n",
    "# This calls the constructor of the parent class nn.Module.\n",
    "# Required to properly register layers, so PyTorch can track them and their parameters.\n",
    "# self.fc = nn.Linear(10, 1)\n",
    "# You're defining a fully connected layer (dense layer) named fc.\n",
    "# nn.Linear(10, 1) means: Input size = 10 , Output size = 1\n",
    "\n",
    "import torch.nn as nn\n",
    "\n",
    "class Net(nn.Module):\n",
    "    def __init__(self):\n",
    "        super(Net, self).__init__()\n",
    "        self.fc = nn.Linear(10, 1)\n",
    "        \n",
    "    def forward(self, x):\n",
    "        return self.fc(x)\n",
    "\n",
    "model = Net()\n",
    "\n",
    "# why we have defined only forward pass.\n",
    "# ans: here is the main benefit of pytorch\n",
    "# You only need to define the forward() method in a PyTorch nn.Module subclass because:\n",
    "# PyTorch automatically handles the backward pass (i.e., gradient computation) using autograd.\n",
    "# So, you define what the model does in the forward direction — and PyTorch takes care of computing gradients for training."
   ]
  },
  {
   "cell_type": "code",
   "execution_count": 11,
   "metadata": {},
   "outputs": [
    {
     "name": "stdout",
     "output_type": "stream",
     "text": [
      "----------------------------------------------------------------\n",
      "        Layer (type)               Output Shape         Param #\n",
      "================================================================\n",
      "            Linear-1                 [-1, 1, 1]              11\n",
      "================================================================\n",
      "Total params: 11\n",
      "Trainable params: 11\n",
      "Non-trainable params: 0\n",
      "----------------------------------------------------------------\n",
      "Input size (MB): 0.00\n",
      "Forward/backward pass size (MB): 0.00\n",
      "Params size (MB): 0.00\n",
      "Estimated Total Size (MB): 0.00\n",
      "----------------------------------------------------------------\n",
      "<function summary at 0x16b5f4720>\n"
     ]
    }
   ],
   "source": [
    "## lets print the summary of the model\n",
    "from torchsummary import summary\n",
    "summary(model, input_size=(1,10))  # Assuming input size is (batch_size, features)\n",
    "# The summary function provides a detailed overview of the model's architecture, including:\n",
    "# - Layer types and their configurations\n",
    "# - Output shapes of each layer\n",
    "print(summary)"
   ]
  },
  {
   "cell_type": "code",
   "execution_count": 12,
   "metadata": {},
   "outputs": [],
   "source": [
    "#!pip install torchsummary"
   ]
  }
 ],
 "metadata": {
  "kernelspec": {
   "display_name": "Python 3",
   "language": "python",
   "name": "python3"
  },
  "language_info": {
   "codemirror_mode": {
    "name": "ipython",
    "version": 3
   },
   "file_extension": ".py",
   "mimetype": "text/x-python",
   "name": "python",
   "nbconvert_exporter": "python",
   "pygments_lexer": "ipython3",
   "version": "3.12.0"
  }
 },
 "nbformat": 4,
 "nbformat_minor": 2
}
