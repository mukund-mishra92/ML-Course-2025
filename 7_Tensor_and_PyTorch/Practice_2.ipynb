{
 "cells": [
  {
   "cell_type": "code",
   "execution_count": 1,
   "metadata": {},
   "outputs": [
    {
     "name": "stdout",
     "output_type": "stream",
     "text": [
      "3 1.8\n"
     ]
    }
   ],
   "source": [
    "## dot product\n",
    "\n",
    "import numpy as np\n",
    "\n",
    "x = [0,1]\n",
    "\n",
    "w1 = [2,3]\n",
    "w2 = [0.4, 1.8]\n",
    "\n",
    "dot_x_w1 = x[0]*w1[0] + x[1]*w1[1]\n",
    "dot_x_w2 = x[0]*w2[0] + x[1]*w2[1]\n",
    "\n",
    "print(dot_x_w1, dot_x_w2)"
   ]
  },
  {
   "cell_type": "code",
   "execution_count": 2,
   "metadata": {},
   "outputs": [
    {
     "name": "stdout",
     "output_type": "stream",
     "text": [
      "3\n",
      "1.8\n"
     ]
    }
   ],
   "source": [
    "print(np.dot(x, w1))\n",
    "print(np.dot(x,w2))"
   ]
  }
 ],
 "metadata": {
  "kernelspec": {
   "display_name": "Python 3",
   "language": "python",
   "name": "python3"
  },
  "language_info": {
   "codemirror_mode": {
    "name": "ipython",
    "version": 3
   },
   "file_extension": ".py",
   "mimetype": "text/x-python",
   "name": "python",
   "nbconvert_exporter": "python",
   "pygments_lexer": "ipython3",
   "version": "3.12.0"
  }
 },
 "nbformat": 4,
 "nbformat_minor": 2
}
