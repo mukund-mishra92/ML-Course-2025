{
 "cells": [
  {
   "cell_type": "code",
   "execution_count": null,
   "metadata": {},
   "outputs": [],
   "source": [
    "## Data utilities\n",
    "\n",
    "### Dataset and Dataloader\n",
    "\n",
    "- torch.utils.data.Dataset\n",
    "- DataLoader, Subset, ConcatDataset\n",
    "- TensorDataset\n",
    "- WeightedRandomSampler\n",
    "- BatchSampler\n",
    "\n",
    "\n",
    "\n"
   ]
  },
  {
   "cell_type": "code",
   "execution_count": 10,
   "metadata": {},
   "outputs": [
    {
     "data": {
      "text/plain": [
       "torch.Size([3, 32, 32])"
      ]
     },
     "execution_count": 10,
     "metadata": {},
     "output_type": "execute_result"
    }
   ],
   "source": [
    "## lets understand the use of torch.utils.data.Dataset\n",
    "## lets take a simple example of a dataset that contains images and labels\n",
    "import torch\n",
    "from torch.utils.data import Dataset, DataLoader\n",
    "\n",
    "class SimpleDataset(Dataset):\n",
    "    def __init__(self, data, labels):\n",
    "        self.data = data\n",
    "        self.labels = labels\n",
    "\n",
    "    def __len__(self):\n",
    "        return len(self.data)\n",
    "\n",
    "    def __getitem__(self, idx):\n",
    "        return self.data[idx], self.labels[idx]\n",
    "    \n",
    "# Example usage\n",
    "data = torch.randn(100, 3, 32, 32)  # 100 random images of size 3x32x32\n",
    "labels = torch.randint(0, 10, (100,))  # 100 random labels (0-9)\n",
    "dataset = SimpleDataset(data, labels)\n",
    "data[0].shape\n"
   ]
  },
  {
   "cell_type": "code",
   "execution_count": 16,
   "metadata": {},
   "outputs": [
    {
     "name": "stderr",
     "output_type": "stream",
     "text": [
      "Clipping input data to the valid range for imshow with RGB data ([0..1] for floats or [0..255] for integers). Got range [-4.122202..3.6558292].\n"
     ]
    },
    {
     "data": {
      "image/png": "[encoded data removed]",
      "text/plain": [
       "<Figure size 640x480 with 1 Axes>"
      ]
     },
     "metadata": {},
     "output_type": "display_data"
    }
   ],
   "source": [
    "import matplotlib.pyplot as plt\n",
    "import cv2\n",
    "def show_image(image, label):\n",
    "    plt.imshow(image.permute(1, 2, 0))  # Permute to HWC format for plotting\n",
    "    plt.title(f'Label: {label}')\n",
    "    plt.axis('off')\n",
    "    plt.show()\n",
    "\n",
    "# Display the first image and its label\n",
    "image, label = dataset[50]\n",
    "show_image(image, label)"
   ]
  },
  {
   "cell_type": "code",
   "execution_count": null,
   "metadata": {},
   "outputs": [],
   "source": [
    "## Transforms via torchvision.transform\n",
    "\n",
    "- Resize\n",
    "- RandomCrop\n",
    "- CenterCrop\n",
    "- RandomHorizontalFlip\n",
    "- ColorJitter\n",
    "- ToTensor\n",
    "- Normalize\n",
    "- RandomRotation\n"
   ]
  }
 ],
 "metadata": {
  "kernelspec": {
   "display_name": "Python 3",
   "language": "python",
   "name": "python3"
  },
  "language_info": {
   "codemirror_mode": {
    "name": "ipython",
    "version": 3
   },
   "file_extension": ".py",
   "mimetype": "text/x-python",
   "name": "python",
   "nbconvert_exporter": "python",
   "pygments_lexer": "ipython3",
   "version": "3.12.0"
  }
 },
 "nbformat": 4,
 "nbformat_minor": 2
}
