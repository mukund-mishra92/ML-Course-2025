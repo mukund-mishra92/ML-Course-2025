{
 "cells": [
  {
   "cell_type": "markdown",
   "metadata": {},
   "source": [
    "## Neural network module\n",
    "\n",
    "### Layers\n",
    "- nn.Linear()\n",
    "- nn.Conv1d/2d/3d\n",
    "- nn.ConvTranspose2d()\n",
    "- nn.RNN()\n",
    "- nn.LSTM()\n",
    "- nn.GRU()\n",
    "- nn.Embedding()\n",
    "- nn.BatchNoram1d2d()\n",
    "- nn.LayerNorm()\n",
    "- nn.Dropout()\n",
    "- nn.MaxPool2d()\n",
    "- nn.AvgPool2d()\n",
    "- nn.AdaptiveAvgPool2d()\n",
    "\n",
    "\n",
    "### Activations\n",
    "\n",
    "- nn.Relu()\n",
    "- nn.Sigmoid()\n",
    "- nn.Tanh()\n",
    "- nn.LeakyRelu()\n",
    "- nn.ELU()\n",
    "- nn.Softmax()\n",
    "- nn.LogSoftmax()\n",
    "- nn.Threshold()\n",
    "- nn.Softplus()\n",
    "\n",
    "### Losses\n",
    "\n",
    "- nn.CrossEntropyLoss()\n",
    "- nn.BCEWithLogitsLoss()\n",
    "- nn.MSELoss()\n",
    "- nn.NLLLoss()\n",
    "- nn.KLDivLoss()\n",
    "- nn.MarginRankingLoss()\n",
    "- nn.L1Loss()\n",
    "\n",
    "\n",
    "\n",
    "\n",
    "\n",
    "\n",
    "\n",
    "\n",
    "\n"
   ]
  }
 ],
 "metadata": {
  "language_info": {
   "name": "python"
  }
 },
 "nbformat": 4,
 "nbformat_minor": 2
}
