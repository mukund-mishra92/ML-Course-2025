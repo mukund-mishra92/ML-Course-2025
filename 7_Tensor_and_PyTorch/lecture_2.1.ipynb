{
 "cells": [
  {
   "cell_type": "markdown",
   "metadata": {},
   "source": [
    "## Autograd and Gradient Tracking\n",
    "\n",
    "### Gradient Control\n",
    "- requires_grad \n",
    "- with torch.no_grad()\n",
    "- .detach()\n",
    "- .requires_grad()\n",
    "\n",
    "### Backpropagation\n",
    "- .backward()\n",
    "- .grad()\n",
    "- .grad_fn()\n",
    "- .zero_grad()\n",
    "- .retain_grad()\n",
    "- .register_hook()\n",
    "\n"
   ]
  }
 ],
 "metadata": {
  "language_info": {
   "name": "python"
  }
 },
 "nbformat": 4,
 "nbformat_minor": 2
}
