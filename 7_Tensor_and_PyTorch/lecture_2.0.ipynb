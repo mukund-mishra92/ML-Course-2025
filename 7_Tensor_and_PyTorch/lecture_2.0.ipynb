{
 "cells": [
  {
   "cell_type": "markdown",
   "metadata": {},
   "source": [
    "## Manipulatioon of data[tensor] with torch\n",
    "\n",
    "### tensor creation\n",
    "\n",
    "- torch.tensor()\n",
    "- torch.zeros()\n",
    "- torch.ones()\n",
    "- torch.arrange()\n",
    "- torch.linespace()\n",
    "- torch.empty()\n",
    "- torch.eye()\n",
    "- torch.rand()\n",
    "- torch.randn()\n",
    "- torch.randint()\n",
    "- torch.normal()\n",
    "\n",
    "\n",
    "\n",
    "\n",
    "\n"
   ]
  },
  {
   "cell_type": "markdown",
   "metadata": {},
   "source": [
    "### tensor view\n",
    "\n",
    "- .view()\n",
    "- .reshape()\n",
    "- .permute()\n",
    "- .transpose()\n",
    "- .unsqueeze()\n",
    "- .squeeze()\n",
    "- .flatten()\n",
    "- .chunk()\n",
    "- .split()\n",
    "\n",
    "\n"
   ]
  },
  {
   "cell_type": "markdown",
   "metadata": {},
   "source": [
    "### maths operation\n",
    "\n",
    "- +, -, *, /, //, %, **\n",
    "- @, torch.matmul()\n",
    "- torch.mm()\n",
    "- torch.add()\n",
    "- torch.sub()\n",
    "- torch.mul()\n",
    "- torch.div()\n",
    "- exp, log, sqrt\n",
    "- sin, cos, pow\n",
    "- clamp, round, floor, seil"
   ]
  },
  {
   "cell_type": "markdown",
   "metadata": {},
   "source": []
  },
  {
   "cell_type": "markdown",
   "metadata": {},
   "source": [
    "### Aggregation operation\n",
    "- sum(), mean, median, std, var,\n",
    "- min , max, argmax, argmin\n",
    "- along_axes : torch.uneque(), torch.where(), torch.nonzero()\n"
   ]
  },
  {
   "cell_type": "markdown",
   "metadata": {},
   "source": [
    "### random sampling\n",
    "- torch.randperm()\n",
    "- torch.bernoulli()"
   ]
  }
 ],
 "metadata": {
  "kernelspec": {
   "display_name": "Python 3",
   "language": "python",
   "name": "python3"
  },
  "language_info": {
   "codemirror_mode": {
    "name": "ipython",
    "version": 3
   },
   "file_extension": ".py",
   "mimetype": "text/x-python",
   "name": "python",
   "nbconvert_exporter": "python",
   "pygments_lexer": "ipython3",
   "version": "3.12.0"
  }
 },
 "nbformat": 4,
 "nbformat_minor": 2
}
