{
 "cells": [
  {
   "cell_type": "markdown",
   "metadata": {},
   "source": [
    "## Manipulatioon of data[tensor] with torch\n",
    "\n",
    "### tensor creation\n",
    "\n",
    "- torch.tensor()\n",
    "- torch.zeros()\n",
    "- torch.ones()\n",
    "- torch.arrange()\n",
    "- torch.linespace()\n",
    "- torch.empty()\n",
    "- torch.eye()\n",
    "- torch.rand()\n",
    "- torch.randn()\n",
    "- torch.randint()\n",
    "- torch.normal()\n",
    "\n",
    "\n",
    "\n",
    "\n",
    "\n"
   ]
  },
  {
   "cell_type": "code",
   "execution_count": 9,
   "metadata": {},
   "outputs": [
    {
     "name": "stdout",
     "output_type": "stream",
     "text": [
      "tensor([1., 2., 3.])\n",
      "torch.float32\n",
      "[1.0, 2.0, 3.0]\n",
      "<class 'list'>\n",
      "[1. 2. 3.]\n",
      "<class 'numpy.ndarray'>\n"
     ]
    }
   ],
   "source": [
    "import torch\n",
    "\n",
    "a = torch.tensor([1, 2, 3], dtype=torch.float32)\n",
    "print(a)\n",
    "print(a.dtype)\n",
    "## conveert tensor into list\n",
    "print(a.tolist())\n",
    "print(type(a.tolist()))\n",
    "## convert tensor into numpy arrya\n",
    "print(a.numpy())\n",
    "print(type(a.numpy()))\n",
    "#print(type(a.numpy))"
   ]
  },
  {
   "cell_type": "code",
   "execution_count": 12,
   "metadata": {},
   "outputs": [
    {
     "name": "stdout",
     "output_type": "stream",
     "text": [
      "tensor([0., 0., 0.])\n",
      "tensor([1., 1., 1.])\n",
      "tensor([[1., 0., 0.],\n",
      "        [0., 1., 0.],\n",
      "        [0., 0., 1.]])\n"
     ]
    }
   ],
   "source": [
    "## tensor creation of zeros and ones\n",
    "\n",
    "a = torch.zeros(3, dtype=torch.float32)\n",
    "print(a)\n",
    "\n",
    "b = torch.ones(3, dtype=torch.float32)\n",
    "print(b)\n",
    "\n",
    "c = torch.eye(3, dtype=torch.float32)\n",
    "print(c)\n"
   ]
  },
  {
   "cell_type": "code",
   "execution_count": 13,
   "metadata": {},
   "outputs": [
    {
     "name": "stdout",
     "output_type": "stream",
     "text": [
      "tensor([1., 2., 3., 4.])\n"
     ]
    }
   ],
   "source": [
    "a = torch.arange(1,5,1, dtype=torch.float32)\n",
    "print(a)"
   ]
  },
  {
   "cell_type": "code",
   "execution_count": 16,
   "metadata": {},
   "outputs": [
    {
     "name": "stdout",
     "output_type": "stream",
     "text": [
      "tensor([1., 3., 5.])\n"
     ]
    }
   ],
   "source": [
    "#b = torch.linspace((1,5), dtype=torch.float32)\n",
    "b = torch.linspace(1, 5, 3, dtype=torch.float32)\n",
    "print(b)"
   ]
  },
  {
   "cell_type": "code",
   "execution_count": null,
   "metadata": {},
   "outputs": [],
   "source": []
  },
  {
   "cell_type": "markdown",
   "metadata": {},
   "source": [
    "### tensor view\n",
    "\n",
    "- .view()\n",
    "- .reshape()\n",
    "- .permute()\n",
    "- .transpose()\n",
    "- .unsqueeze()\n",
    "- .squeeze()\n",
    "- .flatten()\n",
    "- .chunk()\n",
    "- .split()\n",
    "\n",
    "\n"
   ]
  },
  {
   "cell_type": "markdown",
   "metadata": {},
   "source": [
    "### maths operation\n",
    "\n",
    "- +, -, *, /, //, %, **\n",
    "- @, torch.matmul()\n",
    "- torch.mm()\n",
    "- torch.add()\n",
    "- torch.sub()\n",
    "- torch.mul()\n",
    "- torch.div()\n",
    "- exp, log, sqrt\n",
    "- sin, cos, pow\n",
    "- clamp, round, floor, seil"
   ]
  },
  {
   "cell_type": "markdown",
   "metadata": {},
   "source": []
  },
  {
   "cell_type": "markdown",
   "metadata": {},
   "source": [
    "### Aggregation operation\n",
    "- sum(), mean, median, std, var,\n",
    "- min , max, argmax, argmin\n",
    "- along_axes : torch.uneque(), torch.where(), torch.nonzero()\n"
   ]
  },
  {
   "cell_type": "markdown",
   "metadata": {},
   "source": [
    "### random sampling\n",
    "- torch.randperm()\n",
    "- torch.bernoulli()"
   ]
  }
 ],
 "metadata": {
  "kernelspec": {
   "display_name": "Python 3",
   "language": "python",
   "name": "python3"
  },
  "language_info": {
   "codemirror_mode": {
    "name": "ipython",
    "version": 3
   },
   "file_extension": ".py",
   "mimetype": "text/x-python",
   "name": "python",
   "nbconvert_exporter": "python",
   "pygments_lexer": "ipython3",
   "version": "3.12.0"
  }
 },
 "nbformat": 4,
 "nbformat_minor": 2
}
