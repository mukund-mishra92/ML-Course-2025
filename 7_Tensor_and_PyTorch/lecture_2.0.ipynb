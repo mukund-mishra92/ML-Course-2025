{
 "cells": [
  {
   "cell_type": "markdown",
   "metadata": {},
   "source": [
    "## Manipulatioon of data[tensor] with torch\n",
    "\n",
    "### tensor creation\n",
    "\n",
    "- torch.tensor()\n",
    "- torch.zeros()\n",
    "- torch.ones()\n",
    "- torch.arrange()\n",
    "- torch.linespace()\n",
    "- torch.empty()\n",
    "- torch.eye()\n",
    "- torch.rand()\n",
    "- torch.randn()\n",
    "- torch.randint()\n",
    "- torch.normal()\n",
    "\n",
    "\n",
    "\n",
    "\n",
    "\n"
   ]
  },
  {
   "cell_type": "code",
   "execution_count": 9,
   "metadata": {},
   "outputs": [
    {
     "name": "stdout",
     "output_type": "stream",
     "text": [
      "tensor([1., 2., 3.])\n",
      "torch.float32\n",
      "[1.0, 2.0, 3.0]\n",
      "<class 'list'>\n",
      "[1. 2. 3.]\n",
      "<class 'numpy.ndarray'>\n"
     ]
    }
   ],
   "source": [
    "import torch\n",
    "\n",
    "a = torch.tensor([1, 2, 3], dtype=torch.float32)\n",
    "print(a)\n",
    "print(a.dtype)\n",
    "## conveert tensor into list\n",
    "print(a.tolist())\n",
    "print(type(a.tolist()))\n",
    "## convert tensor into numpy arrya\n",
    "print(a.numpy())\n",
    "print(type(a.numpy()))\n",
    "#print(type(a.numpy))"
   ]
  },
  {
   "cell_type": "code",
   "execution_count": 12,
   "metadata": {},
   "outputs": [
    {
     "name": "stdout",
     "output_type": "stream",
     "text": [
      "tensor([0., 0., 0.])\n",
      "tensor([1., 1., 1.])\n",
      "tensor([[1., 0., 0.],\n",
      "        [0., 1., 0.],\n",
      "        [0., 0., 1.]])\n"
     ]
    }
   ],
   "source": [
    "## tensor creation of zeros and ones\n",
    "\n",
    "a = torch.zeros(3, dtype=torch.float32)\n",
    "print(a)\n",
    "\n",
    "b = torch.ones(3, dtype=torch.float32)\n",
    "print(b)\n",
    "\n",
    "c = torch.eye(3, dtype=torch.float32)\n",
    "print(c)\n"
   ]
  },
  {
   "cell_type": "code",
   "execution_count": 13,
   "metadata": {},
   "outputs": [
    {
     "name": "stdout",
     "output_type": "stream",
     "text": [
      "tensor([1., 2., 3., 4.])\n"
     ]
    }
   ],
   "source": [
    "a = torch.arange(1,5,1, dtype=torch.float32)\n",
    "print(a)"
   ]
  },
  {
   "cell_type": "code",
   "execution_count": 16,
   "metadata": {},
   "outputs": [
    {
     "name": "stdout",
     "output_type": "stream",
     "text": [
      "tensor([1., 3., 5.])\n"
     ]
    }
   ],
   "source": [
    "#b = torch.linspace((1,5), dtype=torch.float32)\n",
    "b = torch.linspace(1, 5, 3, dtype=torch.float32)\n",
    "print(b)"
   ]
  },
  {
   "cell_type": "code",
   "execution_count": 36,
   "metadata": {},
   "outputs": [
    {
     "name": "stdout",
     "output_type": "stream",
     "text": [
      "tensor([[1.6902e-25, 1.4013e-45, 3.4086e-10],\n",
      "        [1.4013e-45, 0.0000e+00, 0.0000e+00],\n",
      "        [0.0000e+00, 0.0000e+00, 0.0000e+00]])\n",
      "torch.Size([3, 3])\n",
      "tensor(3.7873e-11)\n",
      "tensor(1.2909e-20)\n"
     ]
    }
   ],
   "source": [
    "a = torch.empty((3, 3), dtype=torch.float32)\n",
    "print(a)\n",
    "print(a.shape)\n",
    "print(a.mean())\n",
    "print(a.var())"
   ]
  },
  {
   "cell_type": "code",
   "execution_count": 55,
   "metadata": {},
   "outputs": [
    {
     "name": "stdout",
     "output_type": "stream",
     "text": [
      "tensor([[0.3402, 0.7885, 0.6138],\n",
      "        [0.3816, 0.0326, 0.7020],\n",
      "        [0.3130, 0.1908, 0.6378]])\n",
      "tensor(0.4445)\n",
      "tensor(0.0646)\n"
     ]
    }
   ],
   "source": [
    "a = torch.rand(3,3,dtype=torch.float32)\n",
    "print(a)\n",
    "print(a.mean())\n",
    "print(a.var())"
   ]
  },
  {
   "cell_type": "code",
   "execution_count": 56,
   "metadata": {},
   "outputs": [
    {
     "name": "stdout",
     "output_type": "stream",
     "text": [
      "tensor([[-0.9049,  0.8821, -1.1790],\n",
      "        [-1.7267, -0.1256,  1.9472],\n",
      "        [-0.6488, -0.1103, -1.1278]])\n",
      "tensor(-0.3327)\n",
      "tensor(1.3107)\n"
     ]
    }
   ],
   "source": [
    "a= torch.randn(3, 3, dtype=torch.float32)\n",
    "print(a)\n",
    "print(a.mean())\n",
    "print(a.var())"
   ]
  },
  {
   "cell_type": "code",
   "execution_count": 58,
   "metadata": {},
   "outputs": [
    {
     "name": "stdout",
     "output_type": "stream",
     "text": [
      "tensor([[0, 6, 7],\n",
      "        [8, 5, 6],\n",
      "        [6, 6, 0]], dtype=torch.int32)\n"
     ]
    }
   ],
   "source": [
    "a = torch.randint(0, 10, (3, 3), dtype=torch.int32)\n",
    "print(a)\n",
    "#print(a.mean())\n",
    "#print(a.var())"
   ]
  },
  {
   "cell_type": "code",
   "execution_count": 60,
   "metadata": {},
   "outputs": [
    {
     "name": "stdout",
     "output_type": "stream",
     "text": [
      "tensor([[-1.6974, -0.6490,  0.9548],\n",
      "        [-0.2411, -0.4451,  0.2567],\n",
      "        [ 0.0936,  0.0533, -0.7279]])\n"
     ]
    }
   ],
   "source": [
    "a = torch.normal(0, 1, (3, 3), dtype=torch.float32)\n",
    "print(a)"
   ]
  },
  {
   "cell_type": "markdown",
   "metadata": {},
   "source": [
    "### tensor view\n",
    "\n",
    "- .view()\n",
    "- .reshape()\n",
    "- .permute()\n",
    "- .transpose()\n",
    "- .unsqueeze()\n",
    "- .squeeze()\n",
    "- .flatten()\n",
    "- .chunk()\n",
    "- .split()\n",
    "\n",
    "\n"
   ]
  },
  {
   "cell_type": "code",
   "execution_count": 61,
   "metadata": {},
   "outputs": [
    {
     "name": "stdout",
     "output_type": "stream",
     "text": [
      "tensor([[ 0.2105,  0.1572,  0.1468],\n",
      "        [-1.0595, -1.2234, -1.5330]])\n",
      "tensor([[ 0.2105,  0.1572],\n",
      "        [ 0.1468, -1.0595],\n",
      "        [-1.2234, -1.5330]])\n"
     ]
    }
   ],
   "source": [
    "x = torch.randn(2, 3)\n",
    "x_reshaped = x.view(3, 2)\n",
    "print(x)\n",
    "print(x_reshaped)"
   ]
  },
  {
   "cell_type": "code",
   "execution_count": 62,
   "metadata": {},
   "outputs": [
    {
     "name": "stdout",
     "output_type": "stream",
     "text": [
      "tensor([[-0.2207, -1.0088, -1.1846],\n",
      "        [-1.7290,  1.6963,  0.5471]])\n",
      "tensor([[-0.2207, -1.0088],\n",
      "        [-1.1846, -1.7290],\n",
      "        [ 1.6963,  0.5471]])\n"
     ]
    }
   ],
   "source": [
    "x = torch.randn(2, 3)\n",
    "x_reshaped = x.reshape(3, 2)\n",
    "print(x)\n",
    "print(x_reshaped)\n",
    "\n",
    "\n",
    "## both the above functionality is same and reshapes the tensor.\n",
    "## however, .view() used when the tensor is contiguous in memory.\n",
    "## .reshape() can be used for non-contiguous tensors as well.\n",
    "## what is contiguous tensor?\n",
    "## A contiguous tensor is one where the elements are stored in a single, continuous block of memory.\n",
    "## how will we know that a tensor is contiguous?\n",
    "## We can check if a tensor is contiguous using the `.is_contiguous()` method."
   ]
  },
  {
   "cell_type": "code",
   "execution_count": 63,
   "metadata": {},
   "outputs": [
    {
     "data": {
      "text/plain": [
       "True"
      ]
     },
     "execution_count": 63,
     "metadata": {},
     "output_type": "execute_result"
    }
   ],
   "source": [
    "x.is_contiguous()"
   ]
  },
  {
   "cell_type": "code",
   "execution_count": null,
   "metadata": {},
   "outputs": [],
   "source": []
  },
  {
   "cell_type": "code",
   "execution_count": null,
   "metadata": {},
   "outputs": [],
   "source": []
  },
  {
   "cell_type": "markdown",
   "metadata": {},
   "source": [
    "### maths operation\n",
    "\n",
    "- +, -, *, /, //, %, **\n",
    "- @, torch.matmul()\n",
    "- torch.mm()\n",
    "- torch.add()\n",
    "- torch.sub()\n",
    "- torch.mul()\n",
    "- torch.div()\n",
    "- exp, log, sqrt\n",
    "- sin, cos, pow\n",
    "- clamp, round, floor, seil"
   ]
  },
  {
   "cell_type": "markdown",
   "metadata": {},
   "source": []
  },
  {
   "cell_type": "markdown",
   "metadata": {},
   "source": [
    "### Aggregation operation\n",
    "- sum(), mean, median, std, var,\n",
    "- min , max, argmax, argmin\n",
    "- along_axes : torch.uneque(), torch.where(), torch.nonzero()\n"
   ]
  },
  {
   "cell_type": "markdown",
   "metadata": {},
   "source": [
    "### random sampling\n",
    "- torch.randperm()\n",
    "- torch.bernoulli()"
   ]
  }
 ],
 "metadata": {
  "kernelspec": {
   "display_name": "Python 3",
   "language": "python",
   "name": "python3"
  },
  "language_info": {
   "codemirror_mode": {
    "name": "ipython",
    "version": 3
   },
   "file_extension": ".py",
   "mimetype": "text/x-python",
   "name": "python",
   "nbconvert_exporter": "python",
   "pygments_lexer": "ipython3",
   "version": "3.12.0"
  }
 },
 "nbformat": 4,
 "nbformat_minor": 2
}
