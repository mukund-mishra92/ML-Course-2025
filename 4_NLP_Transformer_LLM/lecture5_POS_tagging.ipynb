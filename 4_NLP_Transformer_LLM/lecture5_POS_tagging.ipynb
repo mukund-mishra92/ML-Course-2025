{
 "cells": [
  {
   "cell_type": "code",
   "execution_count": null,
   "metadata": {},
   "outputs": [],
   "source": [
    "## POS Tagging\n",
    "#### "
   ]
  },
  {
   "cell_type": "code",
   "execution_count": 1,
   "metadata": {},
   "outputs": [],
   "source": [
    "text = \"India is a beautifull country\""
   ]
  },
  {
   "cell_type": "code",
   "execution_count": 3,
   "metadata": {},
   "outputs": [],
   "source": [
    "para = \"\"\" \n",
    "He is the longest-serving prime minister outside the Indian National Congress. \n",
    "Modi was born and raised in Vadnagar, Bombay State (present-day Gujarat), where he completed his secondary education. \n",
    "He was introduced to the RSS at the age of eight. \n",
    "Modi became a full-time worker for the RSS in Gujarat in 1971.\n",
    "\"\"\""
   ]
  },
  {
   "cell_type": "code",
   "execution_count": 7,
   "metadata": {},
   "outputs": [
    {
     "name": "stderr",
     "output_type": "stream",
     "text": [
      "[nltk_data] Downloading package averaged_perceptron_tagger to\n",
      "[nltk_data]     /Users/balmukundmishra/nltk_data...\n",
      "[nltk_data]   Unzipping taggers/averaged_perceptron_tagger.zip.\n"
     ]
    },
    {
     "data": {
      "text/plain": [
       "True"
      ]
     },
     "execution_count": 7,
     "metadata": {},
     "output_type": "execute_result"
    }
   ],
   "source": [
    "import nltk\n",
    "nltk.download('averaged_perceptron_tagger')"
   ]
  },
  {
   "cell_type": "code",
   "execution_count": 8,
   "metadata": {},
   "outputs": [
    {
     "name": "stdout",
     "output_type": "stream",
     "text": [
      "[('He', 'PRP'), ('longest-serving', 'JJ'), ('prime', 'JJ'), ('minister', 'NN'), ('outside', 'IN'), ('Indian', 'NNP'), ('National', 'NNP'), ('Congress', 'NNP'), ('.', '.')]\n",
      "[('Modi', 'NNP'), ('born', 'NNS'), ('raised', 'VBD'), ('Vadnagar', 'NNP'), (',', ','), ('Bombay', 'NNP'), ('State', 'NNP'), ('(', '('), ('present-day', 'JJ'), ('Gujarat', 'NNP'), (')', ')'), (',', ','), ('completed', 'VBD'), ('secondary', 'JJ'), ('education', 'NN'), ('.', '.')]\n",
      "[('He', 'PRP'), ('introduced', 'VBD'), ('RSS', 'NNP'), ('age', 'NN'), ('eight', 'CD'), ('.', '.')]\n",
      "[('Modi', 'NNP'), ('became', 'VBD'), ('full-time', 'JJ'), ('worker', 'NN'), ('RSS', 'NNP'), ('Gujarat', 'NNP'), ('1971', 'CD'), ('.', '.')]\n"
     ]
    }
   ],
   "source": [
    "## Lets find the pos tag for each word\n",
    "\n",
    "import nltk\n",
    "from nltk.corpus import stopwords\n",
    "from nltk.tokenize import sent_tokenize\n",
    "\n",
    "sentences = sent_tokenize(text)\n",
    "sentences1 = sent_tokenize(para)\n",
    "\n",
    "for i in range(len(sentences1)):\n",
    "    words = nltk.word_tokenize(sentences1[i])\n",
    "    words = [word for word in words if word not in stopwords.words('english')]\n",
    "\n",
    "    pos_tag = nltk.pos_tag(words)\n",
    "    print(pos_tag)\n"
   ]
  },
  {
   "cell_type": "code",
   "execution_count": 16,
   "metadata": {},
   "outputs": [
    {
     "data": {
      "text/plain": [
       "[('India', 'NNP'),\n",
       " ('is', 'VBZ'),\n",
       " ('a', 'DT'),\n",
       " ('beautifull', 'JJ'),\n",
       " ('country', 'NN')]"
      ]
     },
     "execution_count": 16,
     "metadata": {},
     "output_type": "execute_result"
    }
   ],
   "source": [
    "nltk.pos_tag(text.split())"
   ]
  },
  {
   "cell_type": "code",
   "execution_count": null,
   "metadata": {},
   "outputs": [],
   "source": []
  }
 ],
 "metadata": {
  "kernelspec": {
   "display_name": "base",
   "language": "python",
   "name": "python3"
  },
  "language_info": {
   "codemirror_mode": {
    "name": "ipython",
    "version": 3
   },
   "file_extension": ".py",
   "mimetype": "text/x-python",
   "name": "python",
   "nbconvert_exporter": "python",
   "pygments_lexer": "ipython3",
   "version": "3.10.9"
  }
 },
 "nbformat": 4,
 "nbformat_minor": 2
}
