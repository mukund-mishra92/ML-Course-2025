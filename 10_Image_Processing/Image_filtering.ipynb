{
 "cells": [
  {
   "cell_type": "markdown",
   "metadata": {},
   "source": [
    "## Image Filtering [Bluring, Sharpening, Edge Detection]\n",
    "### Image filtering involves modifying or enhancing an image by manipulating its pixels using filter kernels (or masks). \n",
    "#### This process helps in smoothing, sharpening, detecting features, removing noise, etc.\n",
    "\n",
    "##### Filtering is usually performed via convolution or correlation using a kernel (a small matrix)."
   ]
  },
  {
   "cell_type": "markdown",
   "metadata": {},
   "source": [
    "### Blurring or Smoothing"
   ]
  },
  {
   "cell_type": "markdown",
   "metadata": {},
   "source": [
    "#### Blurring reduces image detail and noise by averaging pixel values. It’s useful for:\n",
    "\n",
    "##### a. Noise reduction\n",
    "##### b. Preprocessing before edge detection\n",
    "##### c. Depth of field simulation\n"
   ]
  },
  {
   "cell_type": "code",
   "execution_count": null,
   "metadata": {},
   "outputs": [],
   "source": [
    "### Example: 3×3 Box Blur Kernel\n",
    "### 1/9 [[1,1,1,],[1,1,1,], [1,1,1]]\n",
    "### suppose you have 3*3 image grayscale grid\n",
    "### [[10  20  30] [20 100  20] [30  20  10]]\n",
    "### [10+20+30+20+100+20+30+20+10]/9 = 29\n",
    "## Center pixel[100] of the gray scale image will be replaced by 29 and the image smothen out.\n"
   ]
  },
  {
   "cell_type": "code",
   "execution_count": 3,
   "metadata": {},
   "outputs": [
    {
     "data": {
      "image/png": "[encoded data removed]",
      "text/plain": [
       "<Figure size 640x480 with 1 Axes>"
      ]
     },
     "metadata": {},
     "output_type": "display_data"
    }
   ],
   "source": [
    "import cv2\n",
    "import numpy as np\n",
    "import matplotlib.pyplot as plt\n",
    "\n",
    "\n",
    "# Create a sample image: synthetic grayscale gradient + noise\n",
    "image = np.zeros((100, 100), dtype=np.uint8)\n",
    "plt.imshow(image, cmap='gray')\n",
    "plt.title('Synthetic Image')\n",
    "plt.axis('off')\n",
    "plt.show()"
   ]
  },
  {
   "cell_type": "code",
   "execution_count": 2,
   "metadata": {},
   "outputs": [
    {
     "name": "stdout",
     "output_type": "stream",
     "text": [
      "Collecting opencv-python\n",
      "  Downloading opencv-python-4.11.0.86.tar.gz (95.2 MB)\n",
      "\u001b[2K     \u001b[90m━━━━━━━━━━━━━━━━━━━━━━━━━━━━━━━━━━━━━━━\u001b[0m \u001b[32m95.2/95.2 MB\u001b[0m \u001b[31m421.9 kB/s\u001b[0m eta \u001b[36m0:00:00\u001b[0m00:01\u001b[0m00:05\u001b[0m\n",
      "\u001b[?25h  Installing build dependencies ... \u001b[?25ldone\n",
      "\u001b[?25h  Getting requirements to build wheel ... \u001b[?25ldone\n",
      "\u001b[?25h  Preparing metadata (pyproject.toml) ... \u001b[?25ldone\n",
      "\u001b[?25hRequirement already satisfied: numpy>=1.21.2 in /Users/balmukundmishra/Desktop/2025-Learning/ML-Course/venv/lib/python3.12/site-packages (from opencv-python) (1.26.4)\n",
      "Building wheels for collected packages: opencv-python\n",
      "  Building wheel for opencv-python (pyproject.toml) ... \u001b[?25ldone\n",
      "\u001b[?25h  Created wheel for opencv-python: filename=opencv_python-4.11.0.86-cp312-cp312-macosx_12_0_arm64.whl size=13160252 sha256=17d7f5783ac8137d01f0ada8ca40753fc610dec90d71be870c123f330345c4f8\n",
      "  Stored in directory: /Users/balmukundmishra/Library/Caches/pip/wheels/be/bd/d5/425eca52f204ab4b1ad7ac23c79e7a0458ee178056e4350265\n",
      "Successfully built opencv-python\n",
      "Installing collected packages: opencv-python\n",
      "Successfully installed opencv-python-4.11.0.86\n"
     ]
    }
   ],
   "source": [
    "!pip install opencv-python"
   ]
  },
  {
   "cell_type": "code",
   "execution_count": null,
   "metadata": {},
   "outputs": [],
   "source": []
  },
  {
   "cell_type": "code",
   "execution_count": null,
   "metadata": {},
   "outputs": [],
   "source": []
  },
  {
   "cell_type": "code",
   "execution_count": null,
   "metadata": {},
   "outputs": [],
   "source": []
  }
 ],
 "metadata": {
  "kernelspec": {
   "display_name": "Python 3",
   "language": "python",
   "name": "python3"
  },
  "language_info": {
   "codemirror_mode": {
    "name": "ipython",
    "version": 3
   },
   "file_extension": ".py",
   "mimetype": "text/x-python",
   "name": "python",
   "nbconvert_exporter": "python",
   "pygments_lexer": "ipython3",
   "version": "3.12.0"
  }
 },
 "nbformat": 4,
 "nbformat_minor": 2
}
