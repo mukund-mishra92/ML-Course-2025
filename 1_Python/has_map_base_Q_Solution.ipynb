{
 "cells": [
  {
   "cell_type": "code",
   "execution_count": null,
   "metadata": {},
   "outputs": [],
   "source": [
    "## List os capital cities\n",
    "## A map is a set of ordered pairs, each containing a key and a value. \n",
    "## In a map, all keys are required to be unique, but values can be repeated. \n",
    "## Maps have three primary methods: \n",
    "## one to add a specified key-value pairing, \n",
    "## Seoncd: to retrieve the value for a given key, and \n",
    "## Third to remove a key-value pairing from the map."
   ]
  },
  {
   "cell_type": "markdown",
   "metadata": {},
   "source": [
    "## Counting the unique value in the list\n",
    "\n",
    "#### Input: You are given a list of n integers, \n",
    "#### Output : calculate the number of distinct values in the list."
   ]
  },
  {
   "cell_type": "code",
   "execution_count": 3,
   "metadata": {},
   "outputs": [
    {
     "name": "stdout",
     "output_type": "stream",
     "text": [
      "no. of unique value in the list is 12\n",
      "unique values in the list is [1, 2, 3, 4, 5, 12, 13, 14, 7, 17, 18, 6]\n"
     ]
    }
   ],
   "source": [
    "## Without hashmap, simple code with list operation and loop\n",
    "\n",
    "num = [1,2,3,1,4,5,3,12,13,12,14,5,7,17,18,17,6,4,3,2]\n",
    "\n",
    "def unique_num(num):\n",
    "    unique =[]\n",
    "\n",
    "    for i in range(len(num)):\n",
    "        if num[i] in unique:\n",
    "            continue\n",
    "        else:\n",
    "            unique.append(num[i])\n",
    "    return len(unique), unique\n",
    "\n",
    "l , unarr = unique_num(num)\n",
    "\n",
    "print(\"no. of unique value in the list is\", l)\n",
    "print(\"unique values in the list is\", unarr)\n",
    "\n",
    "\n"
   ]
  },
  {
   "cell_type": "code",
   "execution_count": 7,
   "metadata": {},
   "outputs": [
    {
     "name": "stdout",
     "output_type": "stream",
     "text": [
      "12\n"
     ]
    }
   ],
   "source": [
    "## the first problem with the code is, if someone ask the give me count of each of the unique value, we are stuck.\n",
    "## Solution : Create a hashmap of the numbers and then you can ans any question related to these numbers.\n",
    "\n",
    "\n",
    "hashm = {}\n",
    "\n",
    "for i in range(len(num)):\n",
    "    if num[i] not in hashm:\n",
    "        hashm[num[i]] = 1\n",
    "    else: \n",
    "        hashm[num[i]] = hashm[num[i]]+1\n",
    "\n",
    "print(len(hashm))\n",
    "\n"
   ]
  },
  {
   "cell_type": "code",
   "execution_count": 8,
   "metadata": {},
   "outputs": [
    {
     "name": "stdout",
     "output_type": "stream",
     "text": [
      "1\n",
      "2\n",
      "3\n",
      "4\n",
      "5\n",
      "12\n",
      "13\n",
      "14\n",
      "7\n",
      "17\n",
      "18\n",
      "6\n"
     ]
    }
   ],
   "source": [
    "## now once you have hasmap of itesm you can ans anything like\n",
    "## give me all the unique values in the list\n",
    "\n",
    "for i in hashm:\n",
    "    print(i)"
   ]
  },
  {
   "cell_type": "code",
   "execution_count": 9,
   "metadata": {},
   "outputs": [
    {
     "data": {
      "text/plain": [
       "[1, 2, 3, 4, 5, 6, 7, 12, 13, 14, 17, 18]"
      ]
     },
     "execution_count": 9,
     "metadata": {},
     "output_type": "execute_result"
    }
   ],
   "source": [
    "sorted(hashm.keys())"
   ]
  },
  {
   "cell_type": "code",
   "execution_count": 10,
   "metadata": {},
   "outputs": [
    {
     "name": "stdout",
     "output_type": "stream",
     "text": [
      "OrderedDict({1: 2, 2: 2, 3: 3, 4: 2, 5: 2, 6: 1, 7: 1, 12: 2, 13: 1, 14: 1, 17: 2, 18: 1})\n"
     ]
    }
   ],
   "source": [
    "from collections import OrderedDict\n",
    "\n",
    "\n",
    "hashm = OrderedDict(sorted(hashm.items()))\n",
    "print(hashm)"
   ]
  },
  {
   "cell_type": "code",
   "execution_count": 13,
   "metadata": {},
   "outputs": [
    {
     "name": "stdout",
     "output_type": "stream",
     "text": [
      "1 : 2\n",
      "2 : 2\n",
      "3 : 3\n",
      "4 : 2\n",
      "5 : 2\n",
      "6 : 1\n",
      "7 : 1\n",
      "12 : 2\n",
      "13 : 1\n",
      "14 : 1\n",
      "17 : 2\n",
      "18 : 1\n"
     ]
    }
   ],
   "source": [
    "for key, val in hashm.items():\n",
    "    print(key, \":\", val)"
   ]
  },
  {
   "cell_type": "code",
   "execution_count": null,
   "metadata": {},
   "outputs": [],
   "source": [
    "## Two sum probelm\n",
    "## Given an array of integers nums and an integer target, return indices of the two numbers such that they add up to target.\n",
    "\n",
    "## You may assume that each input would have exactly one solution, and you may not use the same element twice.\n",
    "\n",
    "## You can return the answer in any order."
   ]
  },
  {
   "cell_type": "code",
   "execution_count": 34,
   "metadata": {},
   "outputs": [
    {
     "name": "stdout",
     "output_type": "stream",
     "text": [
      "0 1\n",
      "1 0\n",
      "4 5\n",
      "5 4\n",
      "6 1\n",
      "7 9\n",
      "8 4\n",
      "9 7\n"
     ]
    }
   ],
   "source": [
    "## Input: nums = [2,7,11,15], target = 9\n",
    "## Output: [0,1]\n",
    "## Explanation: Because nums[0] + nums[1] == 9, we return [0, 1].\n",
    "\n",
    "nums = [2,7,11,15,6,3,2,4,3,5]\n",
    "num = sorted(nums)\n",
    "tar = 9\n",
    "\n",
    "res = {}\n",
    "\n",
    "for i in range(len(nums)):\n",
    "    #t = tar-nums[i]\n",
    "    if (tar-nums[i] in nums):\n",
    "        #print(\"hi\", nums[i], nums.index(nums[i]) )\n",
    "        print(i, nums.index(tar-nums[i]))\n",
    "        add_item = {min(num[i], tar-nums[i]), max(num[i], tar-nums[i])}\n",
    "        if add_item in res.values():\n",
    "            continue\n",
    "        else:\n",
    "            res[i] = add_item\n",
    "    else:\n",
    "        continue\n",
    "\n"
   ]
  },
  {
   "cell_type": "code",
   "execution_count": 35,
   "metadata": {},
   "outputs": [
    {
     "data": {
      "text/plain": [
       "{0: {2, 7},\n",
       " 1: {2},\n",
       " 4: {3, 4},\n",
       " 5: {5, 6},\n",
       " 6: {6, 7},\n",
       " 7: {5, 7},\n",
       " 8: {6, 11},\n",
       " 9: {4, 15}}"
      ]
     },
     "execution_count": 35,
     "metadata": {},
     "output_type": "execute_result"
    }
   ],
   "source": [
    "res"
   ]
  },
  {
   "cell_type": "code",
   "execution_count": 24,
   "metadata": {},
   "outputs": [
    {
     "name": "stdout",
     "output_type": "stream",
     "text": [
      "False\n"
     ]
    }
   ],
   "source": [
    "nums = [2,7,11,15,6,3,2,4,3,5]\n",
    "tar = 9\n",
    "print( tar - 123 in nums)"
   ]
  },
  {
   "cell_type": "code",
   "execution_count": null,
   "metadata": {},
   "outputs": [],
   "source": []
  }
 ],
 "metadata": {
  "kernelspec": {
   "display_name": "Python 3",
   "language": "python",
   "name": "python3"
  },
  "language_info": {
   "codemirror_mode": {
    "name": "ipython",
    "version": 3
   },
   "file_extension": ".py",
   "mimetype": "text/x-python",
   "name": "python",
   "nbconvert_exporter": "python",
   "pygments_lexer": "ipython3",
   "version": "3.12.0"
  }
 },
 "nbformat": 4,
 "nbformat_minor": 2
}
