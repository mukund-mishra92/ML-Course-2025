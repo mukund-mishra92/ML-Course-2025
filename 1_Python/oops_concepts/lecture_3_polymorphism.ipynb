{
 "cells": [
  {
   "cell_type": "code",
   "execution_count": null,
   "metadata": {},
   "outputs": [],
   "source": [
    "## Polymorphism\n",
    "## allows objects of different classes to be treated as objects of a common superclass.\n",
    "## it provides a way to perform a single action in different forms.\n",
    "## it usually achived through method oevrriding and interfaces."
   ]
  },
  {
   "cell_type": "code",
   "execution_count": null,
   "metadata": {},
   "outputs": [],
   "source": [
    "## Method overriding\n",
    "\n",
    "## it allows the child class to provide a sepecifi impelemntation of a method that is already defined in the parent class.\n",
    "\n"
   ]
  },
  {
   "cell_type": "code",
   "execution_count": 1,
   "metadata": {},
   "outputs": [
    {
     "name": "stdout",
     "output_type": "stream",
     "text": [
      "Woof Woof\n",
      "Meow Meow\n"
     ]
    }
   ],
   "source": [
    "class Animal:\n",
    "    def speak(self):\n",
    "        return \"Sound of the animal\"\n",
    "    \n",
    "## Derived class\n",
    "    \n",
    "class Dog(Animal):\n",
    "    def speak(self):\n",
    "        return \"Woof Woof\"\n",
    "    \n",
    "class Cat(Animal):\n",
    "    def speak(self):\n",
    "        return \"Meow Meow\"\n",
    "    \n",
    "dog  = Dog()\n",
    "\n",
    "cat = Cat()\n",
    "\n",
    "print(dog.speak())  # Output: Woof Woof\n",
    "print(cat.speak())  # Output: Meow Meow\n"
   ]
  },
  {
   "cell_type": "code",
   "execution_count": 2,
   "metadata": {},
   "outputs": [
    {
     "name": "stdout",
     "output_type": "stream",
     "text": [
      "Woof Woof\n",
      "Meow Meow\n"
     ]
    }
   ],
   "source": [
    "## lets define a function that demonstrates polymorphism\n",
    "\n",
    "def animal_sound(animal):\n",
    "    print(animal.speak())\n",
    "\n",
    "# Using polymorphism\n",
    "animal_sound(dog)  # Output: Woof Woof\n",
    "animal_sound(cat)  # Output: Meow Meow"
   ]
  },
  {
   "cell_type": "code",
   "execution_count": 3,
   "metadata": {},
   "outputs": [
    {
     "name": "stdout",
     "output_type": "stream",
     "text": [
      "The area is: 78.5\n",
      "The area is: 24\n"
     ]
    }
   ],
   "source": [
    "## polymorphism with functions and methods\n",
    "\n",
    "## base class\n",
    "\n",
    "class shape:\n",
    "    def area(self):\n",
    "        return \"The area of the figure\"\n",
    "    \n",
    "## derived class\n",
    "    \n",
    "class Circle(shape):\n",
    "    def __init__(self, radius):\n",
    "        self.radius = radius\n",
    "\n",
    "    def area(self):\n",
    "        return 3.14 * self.radius * self.radius\n",
    "    \n",
    "\n",
    "class Rectangle(shape):\n",
    "    def __init__(self, length, width):\n",
    "        self.length = length\n",
    "        self.width = width\n",
    "\n",
    "    def area(self):\n",
    "        return self.length * self.width\n",
    "    \n",
    "def print_area(shape_obj):\n",
    "    print(f\"The area is: {shape_obj.area()}\")\n",
    "\n",
    "# Using polymorphism with different shapes\n",
    "circle = Circle(5)\n",
    "rectangle = Rectangle(4, 6)\n",
    "print_area(circle)      # Output: The area is: 78.5\n",
    "print_area(rectangle)   # Output: The area is: 24   \n",
    "\n",
    "\n",
    "        \n",
    "    "
   ]
  },
  {
   "cell_type": "code",
   "execution_count": null,
   "metadata": {},
   "outputs": [],
   "source": []
  },
  {
   "cell_type": "code",
   "execution_count": null,
   "metadata": {},
   "outputs": [],
   "source": []
  }
 ],
 "metadata": {
  "kernelspec": {
   "display_name": "Python 3",
   "language": "python",
   "name": "python3"
  },
  "language_info": {
   "codemirror_mode": {
    "name": "ipython",
    "version": 3
   },
   "file_extension": ".py",
   "mimetype": "text/x-python",
   "name": "python",
   "nbconvert_exporter": "python",
   "pygments_lexer": "ipython3",
   "version": "3.12.0"
  }
 },
 "nbformat": 4,
 "nbformat_minor": 2
}
