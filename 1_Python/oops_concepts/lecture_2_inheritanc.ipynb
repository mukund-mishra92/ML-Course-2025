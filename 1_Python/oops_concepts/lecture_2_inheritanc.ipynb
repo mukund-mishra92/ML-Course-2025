{
 "cells": [
  {
   "cell_type": "code",
   "execution_count": 1,
   "metadata": {},
   "outputs": [],
   "source": [
    "class car:\n",
    "    def __init__(self, model,windows, doors, engine_type, year):\n",
    "        self.model = model\n",
    "        self.windows = windows\n",
    "        self.doors = doors\n",
    "        self.engine_type = engine_type\n",
    "        self.year = year\n",
    "\n",
    "    def drive(self):\n",
    "        print(f\"The perso is going to drive {self.model} model of the car.\")"
   ]
  },
  {
   "cell_type": "code",
   "execution_count": 2,
   "metadata": {},
   "outputs": [
    {
     "name": "stdout",
     "output_type": "stream",
     "text": [
      "Toyota\n"
     ]
    }
   ],
   "source": [
    "car1 = car(\"Toyota\", 4, 4, \"Hybrid\", 2020)\n",
    "print(car1.model)"
   ]
  },
  {
   "cell_type": "code",
   "execution_count": 3,
   "metadata": {},
   "outputs": [
    {
     "name": "stdout",
     "output_type": "stream",
     "text": [
      "The perso is going to drive Toyota model of the car.\n"
     ]
    }
   ],
   "source": [
    "car1.drive()"
   ]
  },
  {
   "cell_type": "code",
   "execution_count": 4,
   "metadata": {},
   "outputs": [],
   "source": [
    "car2 = car(\"Honda\", 4, 4, \"Petrol\", 2019)\n",
    "car3 = car(\"Ford\", 4, 4, \"Diesel\", 2021)"
   ]
  },
  {
   "cell_type": "code",
   "execution_count": 6,
   "metadata": {},
   "outputs": [],
   "source": [
    "class Tesla(car):\n",
    "    def __init__(self,model, windows, doors, engine_type, year, autopilot):\n",
    "        super().__init__(model, windows, doors, engine_type, year)\n",
    "        self.autopilot = autopilot\n",
    "\n",
    "    def selfDrive(self):\n",
    "        if self.autopilot:\n",
    "            print(f\"{self.model} is driving itself.\")\n",
    "        else:\n",
    "            print(f\"{self.model} does not have autopilot feature.\")\n",
    "\n",
    "tesla1 = Tesla(\"Tesla Model S\", 4, 4, \"Electric\", 2022, True)\n",
    "\n",
    "\n"
   ]
  },
  {
   "cell_type": "code",
   "execution_count": 7,
   "metadata": {},
   "outputs": [
    {
     "name": "stdout",
     "output_type": "stream",
     "text": [
      "Tesla Model S is driving itself.\n"
     ]
    }
   ],
   "source": [
    "tesla1.selfDrive()"
   ]
  },
  {
   "cell_type": "code",
   "execution_count": 9,
   "metadata": {},
   "outputs": [],
   "source": [
    "## Multiple inheritance example\n",
    "## When a class inherits more than one base class\n",
    "\n",
    "class Animal:\n",
    "    def __init__(self, name):\n",
    "        self.name = name\n",
    "\n",
    "    def speak(self):\n",
    "        print(f\"{self.name} makes a sound.\")\n",
    "\n",
    "class Pet:\n",
    "    def __init__(self, owner):\n",
    "        self.owner = owner\n",
    "\n",
    "    def show_owner(self):\n",
    "        print(f\"{self.name} is owned by {self.owner}.\")\n",
    "\n",
    "\n",
    "class Dog(Animal, Pet):\n",
    "    def __init__(self, name, owner):\n",
    "        Animal.__init__(self, name)\n",
    "        Pet.__init__(self, owner)\n",
    "\n",
    "    def speak(self):\n",
    "        print(f\"{self.name} barks.\")\n",
    "\n",
    "dog1 = Dog(\"Buddy\", \"Alice\")\n",
    "\n",
    "    "
   ]
  },
  {
   "cell_type": "code",
   "execution_count": 10,
   "metadata": {},
   "outputs": [
    {
     "name": "stdout",
     "output_type": "stream",
     "text": [
      "Buddy barks.\n"
     ]
    }
   ],
   "source": [
    "dog1.speak()"
   ]
  },
  {
   "cell_type": "code",
   "execution_count": 11,
   "metadata": {},
   "outputs": [],
   "source": [
    "## Multiple inheritance example\n",
    "## When a class inherits more than one base class\n",
    "\n",
    "class Animal:\n",
    "    def __init__(self, name):\n",
    "        self.name = name\n",
    "\n",
    "    def speak(self):\n",
    "        print(f\"{self.name} makes a sound.\")\n",
    "\n",
    "class Pet:\n",
    "    def __init__(self, owner):\n",
    "        self.owner = owner\n",
    "\n",
    "    def show_owner(self):\n",
    "        print(f\"{self.name} is owned by {self.owner}.\")\n",
    "\n",
    "\n",
    "class Dog(Animal, Pet):\n",
    "    def __init__(self, name, owner):\n",
    "        Animal.__init__(self, name)\n",
    "        Pet.__init__(self, owner)\n",
    "\n",
    "    \n",
    "\n",
    "dog1 = Dog(\"Buddy\", \"Alice\")\n",
    "\n",
    "    "
   ]
  },
  {
   "cell_type": "code",
   "execution_count": 12,
   "metadata": {},
   "outputs": [
    {
     "name": "stdout",
     "output_type": "stream",
     "text": [
      "Buddy makes a sound.\n"
     ]
    }
   ],
   "source": [
    "dog1.speak()"
   ]
  }
 ],
 "metadata": {
  "kernelspec": {
   "display_name": "Python 3",
   "language": "python",
   "name": "python3"
  },
  "language_info": {
   "codemirror_mode": {
    "name": "ipython",
    "version": 3
   },
   "file_extension": ".py",
   "mimetype": "text/x-python",
   "name": "python",
   "nbconvert_exporter": "python",
   "pygments_lexer": "ipython3",
   "version": "3.12.0"
  }
 },
 "nbformat": 4,
 "nbformat_minor": 2
}
