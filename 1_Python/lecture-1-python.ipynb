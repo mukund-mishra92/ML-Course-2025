{
 "cells": [
  {
   "cell_type": "code",
   "execution_count": 1,
   "metadata": {},
   "outputs": [
    {
     "name": "stdout",
     "output_type": "stream",
     "text": [
      "Hi Python\n"
     ]
    }
   ],
   "source": [
    "print(\"Hi Python\")"
   ]
  },
  {
   "cell_type": "code",
   "execution_count": 5,
   "metadata": {},
   "outputs": [
    {
     "name": "stdout",
     "output_type": "stream",
     "text": [
      "20\n"
     ]
    }
   ],
   "source": [
    "## Variable Printing\n",
    "\n",
    "a = 20\n",
    "\n",
    "print(a)\n"
   ]
  },
  {
   "cell_type": "code",
   "execution_count": 7,
   "metadata": {},
   "outputs": [
    {
     "name": "stdout",
     "output_type": "stream",
     "text": [
      "The value of a :%{a}\n"
     ]
    }
   ],
   "source": [
    "print(\"The value of a :{a}\")"
   ]
  },
  {
   "cell_type": "code",
   "execution_count": 9,
   "metadata": {},
   "outputs": [
    {
     "name": "stdout",
     "output_type": "stream",
     "text": [
      "The value of a :20\n"
     ]
    }
   ],
   "source": [
    "print(f\"The value of a :{a}\")"
   ]
  },
  {
   "cell_type": "code",
   "execution_count": 10,
   "metadata": {},
   "outputs": [
    {
     "name": "stdout",
     "output_type": "stream",
     "text": [
      "Balmukund is 34 year old\n"
     ]
    }
   ],
   "source": [
    "## Now lets take few more cases\n",
    "\n",
    "name = \"Balmukund\"\n",
    "age = 34\n",
    "print(name, \"is\",age,\"year old\")"
   ]
  },
  {
   "cell_type": "code",
   "execution_count": null,
   "metadata": {},
   "outputs": [],
   "source": [
    "## now there is another function format, which we can utilize to print directoly in the\n",
    "\n",
    "print()"
   ]
  },
  {
   "cell_type": "code",
   "execution_count": 1,
   "metadata": {},
   "outputs": [
    {
     "name": "stdout",
     "output_type": "stream",
     "text": [
      "30\n",
      "\n",
      "\n",
      "30\n"
     ]
    }
   ],
   "source": [
    "a=10\n",
    "b=20\n",
    "c=a+b\n",
    "print(a+b)\n",
    "print(\"\\n\")\n",
    "print(c)"
   ]
  },
  {
   "cell_type": "code",
   "execution_count": 2,
   "metadata": {},
   "outputs": [
    {
     "name": "stdout",
     "output_type": "stream",
     "text": [
      "Collecting pyjokes\n",
      "  Downloading pyjokes-0.8.3-py3-none-any.whl (47 kB)\n",
      "\u001b[2K     \u001b[90m━━━━━━━━━━━━━━━━━━━━━━━━━━━━━━━━━━━━━━━\u001b[0m \u001b[32m47.6/47.6 kB\u001b[0m \u001b[31m223.2 kB/s\u001b[0m eta \u001b[36m0:00:00\u001b[0ma \u001b[36m0:00:01\u001b[0m\n",
      "\u001b[?25hInstalling collected packages: pyjokes\n",
      "Successfully installed pyjokes-0.8.3\n"
     ]
    }
   ],
   "source": [
    "!pip install pyjokes"
   ]
  },
  {
   "cell_type": "code",
   "execution_count": 3,
   "metadata": {},
   "outputs": [
    {
     "name": "stdout",
     "output_type": "stream",
     "text": [
      "Why do they call this a word processor? It's simple, ... you've seen what food processors do to food, right?\n"
     ]
    }
   ],
   "source": [
    "import pyjokes\n",
    "joke = pyjokes.get_joke()\n",
    "print(joke)"
   ]
  },
  {
   "cell_type": "code",
   "execution_count": 4,
   "metadata": {},
   "outputs": [
    {
     "name": "stdout",
     "output_type": "stream",
     "text": [
      "W\n",
      "h\n",
      "y\n",
      " \n",
      "d\n",
      "o\n",
      " \n",
      "t\n",
      "h\n",
      "e\n",
      "y\n",
      " \n",
      "c\n",
      "a\n",
      "l\n",
      "l\n",
      " \n",
      "t\n",
      "h\n",
      "i\n",
      "s\n",
      " \n",
      "a\n",
      " \n",
      "w\n",
      "o\n",
      "r\n",
      "d\n",
      " \n",
      "p\n",
      "r\n",
      "o\n",
      "c\n",
      "e\n",
      "s\n",
      "s\n",
      "o\n",
      "r\n",
      "?\n",
      " \n",
      "I\n",
      "t\n",
      "'\n",
      "s\n",
      " \n",
      "s\n",
      "i\n",
      "m\n",
      "p\n",
      "l\n",
      "e\n",
      ",\n",
      " \n",
      ".\n",
      ".\n",
      ".\n",
      " \n",
      "y\n",
      "o\n",
      "u\n",
      "'\n",
      "v\n",
      "e\n",
      " \n",
      "s\n",
      "e\n",
      "e\n",
      "n\n",
      " \n",
      "w\n",
      "h\n",
      "a\n",
      "t\n",
      " \n",
      "f\n",
      "o\n",
      "o\n",
      "d\n",
      " \n",
      "p\n",
      "r\n",
      "o\n",
      "c\n",
      "e\n",
      "s\n",
      "s\n",
      "o\n",
      "r\n",
      "s\n",
      " \n",
      "d\n",
      "o\n",
      " \n",
      "t\n",
      "o\n",
      " \n",
      "f\n",
      "o\n",
      "o\n",
      "d\n",
      ",\n",
      " \n",
      "r\n",
      "i\n",
      "g\n",
      "h\n",
      "t\n",
      "?\n"
     ]
    }
   ],
   "source": [
    "for i in joke:\n",
    "    print(i)"
   ]
  }
 ],
 "metadata": {
  "kernelspec": {
   "display_name": "Python 3",
   "language": "python",
   "name": "python3"
  },
  "language_info": {
   "codemirror_mode": {
    "name": "ipython",
    "version": 3
   },
   "file_extension": ".py",
   "mimetype": "text/x-python",
   "name": "python",
   "nbconvert_exporter": "python",
   "pygments_lexer": "ipython3",
   "version": "3.10.9"
  }
 },
 "nbformat": 4,
 "nbformat_minor": 2
}
