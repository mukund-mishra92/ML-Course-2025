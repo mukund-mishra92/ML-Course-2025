{
 "cells": [
  {
   "cell_type": "markdown",
   "metadata": {},
   "source": [
    "| #  | Problem                                                                                      |\n",
    "|----|----------------------------------------------------------------------------------------------|\n",
    "| 1  | Read a text file and print its contents.                                                     |\n",
    "| 2  | Count the number of lines, words, and characters in a text file.                             |\n",
    "| 3  | Write a list of strings to a file, each string on a new line.                                |\n",
    "| 4  | Append a new line of text to an existing file.                                               |\n",
    "| 5  | Read a file line by line and store the lines in a list (without newline characters).         |\n",
    "| 6  | Copy contents from one file to another.                                                      |\n",
    "| 7  | Search for a specific word in a file and print all lines containing that word.               |\n",
    "| 8  | Replace all occurrences of a word in a file and save to a new file.                          |\n",
    "| 9  | Read a CSV file and convert it into a list of dictionaries (using `csv.DictReader`).         |\n",
    "| 10 | Merge multiple text files into a single file (e.g., combine all `.txt` files in a folder).   |\n"
   ]
  },
  {
   "cell_type": "code",
   "execution_count": 6,
   "metadata": {},
   "outputs": [
    {
     "name": "stdout",
     "output_type": "stream",
     "text": [
      "# Python practice based on problems and solution\n",
      "\n",
      "## Give me top 10 different problem in python for my list-tuple-disctionary practice from  low to high difficulty level.\n",
      "\n",
      "## give me top 10 python problems for string and oiperation related problems.\n",
      "\n",
      "## give me top 10 basic dsa problems in python.\n",
      "\n",
      "## give me top 5 advanced dsa problems in python.\n",
      "\n",
      "## give me top 10 numpy and pandas related problems for practice.\n",
      "\n"
     ]
    }
   ],
   "source": [
    "## Pronblem-1 : read a text file and print its content\n",
    "\n",
    "\n",
    "with open('/Users/balmukundmishra/Desktop/ML-Course/1_Python/probelm-based-practice/Readme.md', 'r') as file:\n",
    "    for i in file:\n",
    "        print(i)\n",
    "\n",
    "\n",
    "\n",
    "\n"
   ]
  },
  {
   "cell_type": "code",
   "execution_count": 10,
   "metadata": {},
   "outputs": [
    {
     "name": "stdout",
     "output_type": "stream",
     "text": [
      "#\n",
      "Python\n",
      "practice\n",
      "based\n",
      "on\n",
      "problems\n",
      "and\n",
      "solution\n",
      "\n",
      "##\n",
      "Give\n",
      "me\n",
      "top\n",
      "10\n",
      "different\n",
      "problem\n",
      "in\n",
      "python\n",
      "for\n",
      "my\n",
      "list-tuple-disctionary\n",
      "practice\n",
      "from\n",
      "\n",
      "low\n",
      "to\n",
      "high\n",
      "difficulty\n",
      "level.\n",
      "\n",
      "##\n",
      "give\n",
      "me\n",
      "top\n",
      "10\n",
      "python\n",
      "problems\n",
      "for\n",
      "string\n",
      "and\n",
      "oiperation\n",
      "related\n",
      "problems.\n",
      "\n",
      "##\n",
      "give\n",
      "me\n",
      "top\n",
      "10\n",
      "basic\n",
      "dsa\n",
      "problems\n",
      "in\n",
      "python.\n",
      "\n",
      "##\n",
      "give\n",
      "me\n",
      "top\n",
      "5\n",
      "advanced\n",
      "dsa\n",
      "problems\n",
      "in\n",
      "python.\n",
      "\n",
      "##\n",
      "give\n",
      "me\n",
      "top\n",
      "10\n",
      "numpy\n",
      "and\n",
      "pandas\n",
      "related\n",
      "problems\n",
      "for\n",
      "practice.\n",
      "\n"
     ]
    }
   ],
   "source": [
    "with open('/Users/balmukundmishra/Desktop/ML-Course/1_Python/probelm-based-practice/Readme.md', 'r') as file:\n",
    "    for line in file:\n",
    "        line = line.split(sep=' ')\n",
    "        for word in line:\n",
    "            print(word)"
   ]
  },
  {
   "cell_type": "code",
   "execution_count": 12,
   "metadata": {},
   "outputs": [
    {
     "ename": "AttributeError",
     "evalue": "'_io.TextIOWrapper' object has no attribute 'splitlines'",
     "output_type": "error",
     "traceback": [
      "\u001b[0;31m---------------------------------------------------------------------------\u001b[0m",
      "\u001b[0;31mAttributeError\u001b[0m                            Traceback (most recent call last)",
      "Cell \u001b[0;32mIn[12], line 2\u001b[0m\n\u001b[1;32m      1\u001b[0m \u001b[38;5;28;01mwith\u001b[39;00m \u001b[38;5;28mopen\u001b[39m(\u001b[38;5;124m'\u001b[39m\u001b[38;5;124m/Users/balmukundmishra/Desktop/ML-Course/1_Python/probelm-based-practice/Readme.md\u001b[39m\u001b[38;5;124m'\u001b[39m, \u001b[38;5;124m'\u001b[39m\u001b[38;5;124mr\u001b[39m\u001b[38;5;124m'\u001b[39m) \u001b[38;5;28;01mas\u001b[39;00m file:\n\u001b[0;32m----> 2\u001b[0m    lines \u001b[38;5;241m=\u001b[39m \u001b[43mfile\u001b[49m\u001b[38;5;241;43m.\u001b[39;49m\u001b[43msplitlines\u001b[49m()\n",
      "\u001b[0;31mAttributeError\u001b[0m: '_io.TextIOWrapper' object has no attribute 'splitlines'"
     ]
    }
   ],
   "source": [
    "with open('/Users/balmukundmishra/Desktop/ML-Course/1_Python/probelm-based-practice/Readme.md', 'r') as file:\n",
    "   \n",
    "      \n",
    "        "
   ]
  },
  {
   "cell_type": "code",
   "execution_count": 14,
   "metadata": {},
   "outputs": [
    {
     "name": "stdout",
     "output_type": "stream",
     "text": [
      "no of line =  6\n",
      "no of word 72\n",
      "no of character =  339\n"
     ]
    }
   ],
   "source": [
    "## Problem -2 : Count the number of lines, charactes and words in a file\n",
    "\n",
    "path = '/Users/balmukundmishra/Desktop/ML-Course/1_Python/probelm-based-practice/Readme.md'\n",
    "\n",
    "with open(path, 'r') as file:\n",
    "    l=0\n",
    "    w=0\n",
    "    c=0\n",
    "    for line in file:\n",
    "        l +=1\n",
    "        for word in line.split():\n",
    "            w +=1\n",
    "            for ch in word:\n",
    "                c +=1\n",
    "    print(\"no of line = \",l)\n",
    "    print(\"no of word\", w)\n",
    "    print(\"no of character = \",c)\n",
    "\n",
    "\n"
   ]
  },
  {
   "cell_type": "code",
   "execution_count": 42,
   "metadata": {},
   "outputs": [],
   "source": [
    "## problem-3 : write a list of string to a file, each string to a new line.\n",
    "\n",
    "l_s = [\"Balmukund\", \"shivesh\", \"vidwan\", \"pooja\", \"rajanikant\", \"shanvi\"]\n",
    "\n",
    "with open('file.txt', 'r') as file:\n",
    "    lines = file.readlines()\n",
    "\n",
    "lines= [line.strip('\\n') for line in lines]\n",
    "\n",
    "#lines\n",
    "\n",
    "\n",
    "\n",
    "with open('file.txt', 'w') as f:\n",
    "    j=0\n",
    "    for line in lines:\n",
    "        #new_line = line + ' ' + l_s[j]\n",
    "        new_line = ' '.join([line, l_s[j]])\n",
    "        j=j+1\n",
    "        f.writelines(new_line)\n",
    "        f.write('\\n')\n",
    "\n",
    "    \n",
    "\n",
    "\n",
    "        \n",
    "    "
   ]
  },
  {
   "cell_type": "code",
   "execution_count": 43,
   "metadata": {},
   "outputs": [],
   "source": [
    "## Append a new line to the existing file\n",
    "\n",
    "with open('file.txt', 'a') as file:\n",
    "    file.write(\"Hi, a wat to play football\")"
   ]
  },
  {
   "cell_type": "code",
   "execution_count": 47,
   "metadata": {},
   "outputs": [],
   "source": [
    "## read a file line by line and store the line in a list without newline character\n",
    "\n",
    "with open('file.txt', 'r') as file:\n",
    "    lins = file.readlines()\n"
   ]
  },
  {
   "cell_type": "code",
   "execution_count": 49,
   "metadata": {},
   "outputs": [
    {
     "data": {
      "text/plain": [
       "['hi Balmukund',\n",
       " 'hello shivesh',\n",
       " \"how's you vidwan\",\n",
       " 'where are you going pooja',\n",
       " 'Hi, a wat to play football']"
      ]
     },
     "execution_count": 49,
     "metadata": {},
     "output_type": "execute_result"
    }
   ],
   "source": [
    "lins_without_newline_char = [line.strip('\\n') for line in lins]\n",
    "\n",
    "lins_without_newline_char"
   ]
  },
  {
   "cell_type": "code",
   "execution_count": 53,
   "metadata": {},
   "outputs": [],
   "source": [
    "## copy contents from one file to another file.\n",
    "\n",
    "with open('file.txt', 'r') as file:\n",
    "    with open('file1.txt', 'w') as file1:\n",
    "        for line in file:\n",
    "            file1.write(line)"
   ]
  },
  {
   "cell_type": "code",
   "execution_count": null,
   "metadata": {},
   "outputs": [],
   "source": [
    "## Search for a specific word in a file and print all lines containing that word.capitalize\n"
   ]
  },
  {
   "cell_type": "code",
   "execution_count": null,
   "metadata": {},
   "outputs": [],
   "source": [
    "## replace all occurance of a word in a file and save into a new file."
   ]
  },
  {
   "cell_type": "code",
   "execution_count": null,
   "metadata": {},
   "outputs": [],
   "source": [
    "## Read a csv file and convert it intop the list of dictionaries. using csv.Dictreader()"
   ]
  }
 ],
 "metadata": {
  "kernelspec": {
   "display_name": "base",
   "language": "python",
   "name": "python3"
  },
  "language_info": {
   "codemirror_mode": {
    "name": "ipython",
    "version": 3
   },
   "file_extension": ".py",
   "mimetype": "text/x-python",
   "name": "python",
   "nbconvert_exporter": "python",
   "pygments_lexer": "ipython3",
   "version": "3.10.9"
  }
 },
 "nbformat": 4,
 "nbformat_minor": 2
}
