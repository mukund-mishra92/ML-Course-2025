{
 "cells": [
  {
   "cell_type": "markdown",
   "metadata": {},
   "source": [
    "| #  | Problem                                                       |\n",
    "| -- | ------------------------------------------------------------- |\n",
    "| 1  | **Reverse a string without using built-in reverse.**          |\n",
    "| 2  | **Check if a string is a palindrome.**                        |\n",
    "| 3  | **Count vowels, consonants, digits, and special characters.** |\n",
    "| 4  | **Find the longest word in a sentence.**                      |\n",
    "| 5  | **Replace all whitespaces with underscores.**                 |\n",
    "| 6  | **Remove all duplicate characters.**                          |\n",
    "| 7  | **Find the most frequent character in a string.**             |\n",
    "| 8  | **Check if two strings are anagrams.**                        |\n",
    "| 9  | **Find the first non-repeating character.**                   |\n",
    "| 10 | **Compress a string (like `\"aabcccccaaa\"` ➝ `\"a2b1c5a3\"`).**  |\n"
   ]
  },
  {
   "cell_type": "code",
   "execution_count": 2,
   "metadata": {},
   "outputs": [
    {
     "name": "stdout",
     "output_type": "stream",
     "text": [
      "dnukumlaB\n"
     ]
    }
   ],
   "source": [
    "## Problem-1 : Reverse a string using built-in reverse\n",
    "\n",
    "s = \"Balmukund\"\n",
    "reverse_string = ''.join(reversed(s))\n",
    "print(reverse_string)"
   ]
  },
  {
   "cell_type": "code",
   "execution_count": 3,
   "metadata": {},
   "outputs": [
    {
     "name": "stdout",
     "output_type": "stream",
     "text": [
      "dnukumlaB\n"
     ]
    }
   ],
   "source": [
    "rev_str = s[::-1]\n",
    "print(rev_str)"
   ]
  },
  {
   "cell_type": "code",
   "execution_count": 10,
   "metadata": {},
   "outputs": [
    {
     "name": "stdout",
     "output_type": "stream",
     "text": [
      "[9, 8, 7, 6, 5, 4, 3, 2, 1]\n"
     ]
    }
   ],
   "source": [
    "l = [1,2,3,4,5,6,7,8,9]\n",
    "\n",
    "l.reverse()\n",
    "\n",
    "R_l =l\n",
    "\n",
    "print(R_l)"
   ]
  },
  {
   "cell_type": "code",
   "execution_count": 14,
   "metadata": {},
   "outputs": [
    {
     "name": "stdout",
     "output_type": "stream",
     "text": [
      "[1, 2, 3, 4, 5, 6, 7, 8, 9]\n",
      "[9, 8, 7, 6, 5, 4, 3, 2, 1]\n"
     ]
    }
   ],
   "source": [
    "print(l[::-1])\n",
    "print(l)"
   ]
  },
  {
   "cell_type": "code",
   "execution_count": 15,
   "metadata": {},
   "outputs": [
    {
     "data": {
      "text/plain": [
       "[1, 2, 3, 4, 5, 6, 7, 8, 9]"
      ]
     },
     "execution_count": 15,
     "metadata": {},
     "output_type": "execute_result"
    }
   ],
   "source": [
    "l[::-1]"
   ]
  },
  {
   "cell_type": "code",
   "execution_count": 16,
   "metadata": {},
   "outputs": [
    {
     "data": {
      "text/plain": [
       "[9, 8, 7, 6, 5, 4, 3, 2, 1]"
      ]
     },
     "execution_count": 16,
     "metadata": {},
     "output_type": "execute_result"
    }
   ],
   "source": [
    "l"
   ]
  },
  {
   "cell_type": "code",
   "execution_count": null,
   "metadata": {},
   "outputs": [],
   "source": []
  },
  {
   "cell_type": "code",
   "execution_count": 80,
   "metadata": {},
   "outputs": [
    {
     "name": "stdout",
     "output_type": "stream",
     "text": [
      "False\n"
     ]
    }
   ],
   "source": [
    "## Problem -2 : Chek if a string is palindrome\n",
    "\n",
    "def ispallindrome(s):\n",
    "    pal = 0\n",
    "    for i in range(len(s)):\n",
    "        if s[i] == s[len(s) - i-1]:\n",
    "            continue\n",
    "        else:\n",
    "            pal = 1\n",
    "    if pal == 0:\n",
    "        return \"True\"\n",
    "    else:\n",
    "        return \"False\"\n",
    "\n",
    "\n",
    "s = \"abcba\"\n",
    "s1 = \"baba\"\n",
    "s2 = \"bbbbadbbbaaasasasas\"\n",
    "\n",
    "print(ispallindrome(s2))\n",
    "\n"
   ]
  },
  {
   "cell_type": "code",
   "execution_count": 78,
   "metadata": {},
   "outputs": [
    {
     "name": "stdout",
     "output_type": "stream",
     "text": [
      "5\n",
      "0\n",
      "1\n",
      "2\n",
      "3\n",
      "4\n"
     ]
    }
   ],
   "source": [
    "s = \"abcba\"\n",
    "print(len(s))\n",
    "\n",
    "for i in range(len(s)):\n",
    "    print(i)"
   ]
  },
  {
   "cell_type": "code",
   "execution_count": 27,
   "metadata": {},
   "outputs": [
    {
     "name": "stdout",
     "output_type": "stream",
     "text": [
      "True\n"
     ]
    }
   ],
   "source": [
    "def ispal(s):\n",
    "    if s == s[::-1]:\n",
    "        return True\n",
    "    else:\n",
    "        return False\n",
    "    \n",
    "\n",
    "s = \"abcba\"\n",
    "s1 = \"baba\"\n",
    "s2 = \"bbbbadbbbaaasasasas\"\n",
    "\n",
    "print(ispallindrome(s))"
   ]
  },
  {
   "cell_type": "code",
   "execution_count": 32,
   "metadata": {},
   "outputs": [],
   "source": [
    "## Problem - 3 : Count Vowels, consonent, digitis and special characters in a string\n",
    "\n",
    "def countVCDS(s):\n",
    "    v = 0\n",
    "    c = 0\n",
    "    d = 0\n",
    "    sc = 0\n",
    "    for i in s:\n",
    "        if i.isdigit() == True:\n",
    "            d = d+1\n",
    "        else :\n",
    "            if i.lower() in ['a', 'e', 'i', 'o', 'u']:\n",
    "                v = v+1\n",
    "            elif i.isalpha() == True and i.lower() not in ['a','e','i','o', 'u']:\n",
    "                c = c+1\n",
    "            else:\n",
    "                sc= sc+1\n",
    "    \n",
    "\n",
    "    return v,c,d,sc\n",
    "\n",
    "\n",
    "\n"
   ]
  },
  {
   "cell_type": "code",
   "execution_count": 33,
   "metadata": {},
   "outputs": [
    {
     "name": "stdout",
     "output_type": "stream",
     "text": [
      "2\n",
      "3\n",
      "3\n",
      "3\n"
     ]
    }
   ],
   "source": [
    "s = \"ae123ghj$$$\"\n",
    "\n",
    "vovel, consonent, digit, special_char = countVCDS(s)\n",
    "\n",
    "print(vovel)\n",
    "print(digit)\n",
    "print(consonent)\n",
    "print(special_char)\n",
    "\n"
   ]
  },
  {
   "cell_type": "code",
   "execution_count": 42,
   "metadata": {},
   "outputs": [
    {
     "name": "stdout",
     "output_type": "stream",
     "text": [
      "Balmukund\n"
     ]
    }
   ],
   "source": [
    "## Problem-4: Find the longest word in a sentence.\n",
    "\n",
    "senetence = \"Hi I am Balmukund Mishra\"\n",
    "\n",
    "senetence = senetence.split(sep=' ')\n",
    "\n",
    "m = 0\n",
    "\n",
    "for i in senetence:\n",
    "    if (len(i) > m):\n",
    "        m = len(i)\n",
    "        loc = senetence.index(i)\n",
    "print(senetence[loc])"
   ]
  },
  {
   "cell_type": "code",
   "execution_count": 43,
   "metadata": {},
   "outputs": [],
   "source": [
    "## Problem-5 : replace all whitespace with underscore in a string\n",
    "\n",
    "senetence = \"Hi I am Balmukund Mishra\"\n",
    "\n",
    "senetence = senetence.replace(' ', '_')\n",
    "\n"
   ]
  },
  {
   "cell_type": "code",
   "execution_count": 44,
   "metadata": {},
   "outputs": [
    {
     "data": {
      "text/plain": [
       "'Hi_I_am_Balmukund_Mishra'"
      ]
     },
     "execution_count": 44,
     "metadata": {},
     "output_type": "execute_result"
    }
   ],
   "source": [
    "senetence"
   ]
  },
  {
   "cell_type": "code",
   "execution_count": 58,
   "metadata": {},
   "outputs": [
    {
     "name": "stdout",
     "output_type": "stream",
     "text": [
      "hi amblukndsr\n"
     ]
    }
   ],
   "source": [
    "## Problem-6 : remove all the duplicate characters\n",
    "\n",
    "senetence = \"Hi I am Balmukund Mishra\"\n",
    "senetence = senetence.lower()\n",
    "\n",
    "result = \"\"\n",
    "\n",
    "for i in senetence:\n",
    "    if i not in result:\n",
    "        result = result+i\n",
    "\n",
    "print(result)\n",
    "\n",
    "   \n"
   ]
  },
  {
   "cell_type": "code",
   "execution_count": 71,
   "metadata": {},
   "outputs": [
    {
     "data": {
      "text/plain": [
       "[(' ', 4),\n",
       " ('i', 3),\n",
       " ('a', 3),\n",
       " ('m', 3),\n",
       " ('h', 2),\n",
       " ('u', 2),\n",
       " ('b', 1),\n",
       " ('l', 1),\n",
       " ('k', 1),\n",
       " ('n', 1),\n",
       " ('d', 1),\n",
       " ('s', 1),\n",
       " ('r', 1)]"
      ]
     },
     "execution_count": 71,
     "metadata": {},
     "output_type": "execute_result"
    }
   ],
   "source": [
    "# problem-7 : find the most frquent character in a string\n",
    "\n",
    "senetence = \"Hi I am Balmukund Mishra\"\n",
    "\n",
    "freq = {}\n",
    "\n",
    "for ch in senetence:\n",
    "    if ch.lower() in freq:\n",
    "        #print(ch)\n",
    "        freq[ch.lower()] = freq[ch.lower()] + 1\n",
    "    else:\n",
    "        freq[ch.lower()] = 1\n",
    "\n",
    "tup = list(freq.items())\n",
    "\n",
    "#tup\n",
    "\n",
    "tup.sort(key = lambda x:x[1], reverse=True)\n",
    "\n",
    "tup\n",
    "        \n",
    "\n",
    "\n",
    "\n"
   ]
  },
  {
   "cell_type": "code",
   "execution_count": 76,
   "metadata": {},
   "outputs": [
    {
     "name": "stdout",
     "output_type": "stream",
     "text": [
      "True\n"
     ]
    }
   ],
   "source": [
    "## Problem-8 : Check if two strings are anagrams\n",
    "\n",
    "s = \"abcdefg\"\n",
    "s1 = \"cedfgab\"\n",
    "\n",
    "def isanagram(s,s1):\n",
    "    if(sorted(s) == sorted(s1)):\n",
    "        return True\n",
    "    else:\n",
    "        return False\n",
    "\n",
    "print(isanagram(s,s1))"
   ]
  },
  {
   "cell_type": "code",
   "execution_count": 91,
   "metadata": {},
   "outputs": [
    {
     "name": "stdout",
     "output_type": "stream",
     "text": [
      "b\n"
     ]
    }
   ],
   "source": [
    "## Prblem-9 : Find the first non-repeating charcter in a string\n",
    "\n",
    "s = \"i I am Balmukund\"\n",
    "s=s.lower()\n",
    "\n",
    "for i in s:\n",
    "    if i == ' ':\n",
    "        continue\n",
    "    else:\n",
    "        if i in s[s.index(i)+1:]:\n",
    "            continue\n",
    "        else:\n",
    "            print(i)\n",
    "            break"
   ]
  },
  {
   "cell_type": "code",
   "execution_count": 86,
   "metadata": {},
   "outputs": [
    {
     "data": {
      "text/plain": [
       "'hi i am balmukund'"
      ]
     },
     "execution_count": 86,
     "metadata": {},
     "output_type": "execute_result"
    }
   ],
   "source": [
    "s=s.lower()\n",
    "s"
   ]
  },
  {
   "cell_type": "code",
   "execution_count": 84,
   "metadata": {},
   "outputs": [
    {
     "data": {
      "text/plain": [
       "0"
      ]
     },
     "execution_count": 84,
     "metadata": {},
     "output_type": "execute_result"
    }
   ],
   "source": [
    "print(s.index('h'):"
   ]
  },
  {
   "cell_type": "code",
   "execution_count": 92,
   "metadata": {},
   "outputs": [
    {
     "name": "stdout",
     "output_type": "stream",
     "text": [
      "Python is fun\n"
     ]
    }
   ],
   "source": [
    "## join split and merging of string\n",
    "\n",
    "words = [\"Python\", \"is\", \"fun\"]\n",
    "sentence = \" \".join(words)\n",
    "print(sentence)  "
   ]
  },
  {
   "cell_type": "code",
   "execution_count": 93,
   "metadata": {},
   "outputs": [
    {
     "name": "stdout",
     "output_type": "stream",
     "text": [
      "apple, banana, cherry\n"
     ]
    }
   ],
   "source": [
    "items = [\"apple\", \"banana\", \"cherry\"]\n",
    "result = \", \".join(items)\n",
    "print(result)  # Output: apple, banana, cherry"
   ]
  },
  {
   "cell_type": "code",
   "execution_count": 94,
   "metadata": {},
   "outputs": [
    {
     "name": "stdout",
     "output_type": "stream",
     "text": [
      "Hello\n"
     ]
    }
   ],
   "source": [
    "chars = ['H', 'e', 'l', 'l', 'o']\n",
    "word = ''.join(chars)\n",
    "print(word)  # Output: Hello\n"
   ]
  },
  {
   "cell_type": "code",
   "execution_count": 95,
   "metadata": {},
   "outputs": [
    {
     "name": "stdout",
     "output_type": "stream",
     "text": [
      "123\n"
     ]
    }
   ],
   "source": [
    "nums = [1, 2, 3]\n",
    "# ''.join(nums)  # ❌ TypeError\n",
    "\n",
    "# ✅ Convert to strings first\n",
    "print(''.join(str(n) for n in nums))  # Output: 123"
   ]
  }
 ],
 "metadata": {
  "kernelspec": {
   "display_name": "base",
   "language": "python",
   "name": "python3"
  },
  "language_info": {
   "codemirror_mode": {
    "name": "ipython",
    "version": 3
   },
   "file_extension": ".py",
   "mimetype": "text/x-python",
   "name": "python",
   "nbconvert_exporter": "python",
   "pygments_lexer": "ipython3",
   "version": "3.10.9"
  }
 },
 "nbformat": 4,
 "nbformat_minor": 2
}
