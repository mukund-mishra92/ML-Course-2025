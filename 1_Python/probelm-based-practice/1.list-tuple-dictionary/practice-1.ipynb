{
 "cells": [
  {
   "cell_type": "markdown",
   "metadata": {},
   "source": [
    "| #  | Problem                                                                |\n",
    "| -- | ---------------------------------------------------------------------- |\n",
    "| 1  | **Find the sum and average of a list of numbers.**                     |\n",
    "| 2  | **Remove duplicates from a list while preserving order.**              |\n",
    "| 3  | **Flatten a nested list (e.g., `[1, [2, 3], 4]` ➝ `[1, 2, 3, 4]`).**   |\n",
    "| 4  | **Count frequency of elements in a list using a dictionary.**          |\n",
    "| 5  | **Merge two dictionaries; if a key exists in both, add their values.** |\n",
    "| 6  | **Sort a list of tuples by the second element.**                       |\n",
    "| 7  | **Group a list of dictionaries by a common key.**                      |\n",
    "| 8  | **Convert a dictionary to a list of tuples and vice versa.**           |\n",
    "| 9  | **Implement an LRU Cache using OrderedDict.**                          |\n",
    "| 10 | **Detect cycles in nested dictionaries (advanced use case).**          |\n"
   ]
  },
  {
   "cell_type": "code",
   "execution_count": 6,
   "metadata": {},
   "outputs": [
    {
     "name": "stdout",
     "output_type": "stream",
     "text": [
      "sum =  482\n",
      "length of list is =  12\n",
      "average 40.166666666666664\n"
     ]
    }
   ],
   "source": [
    "## Problem-1\n",
    "#### Find the sum and average of a list of numbers\n",
    "\n",
    "\n",
    "l=[5,10,34,23,70,21,44,55,22,77,87,34]\n",
    "\n",
    "sum=0\n",
    "for i in l:\n",
    "    sum=sum+i\n",
    "average = sum/(len(l))\n",
    "\n",
    "print(\"sum = \", sum)\n",
    "print(\"length of list is = \",len(l))\n",
    "print(\"average\", average)"
   ]
  },
  {
   "cell_type": "code",
   "execution_count": 13,
   "metadata": {},
   "outputs": [
    {
     "data": {
      "text/plain": [
       "list"
      ]
     },
     "execution_count": 13,
     "metadata": {},
     "output_type": "execute_result"
    }
   ],
   "source": [
    "type(l)"
   ]
  },
  {
   "cell_type": "code",
   "execution_count": 24,
   "metadata": {},
   "outputs": [],
   "source": [
    "\n",
    "del average"
   ]
  },
  {
   "cell_type": "code",
   "execution_count": 26,
   "metadata": {},
   "outputs": [
    {
     "name": "stdout",
     "output_type": "stream",
     "text": [
      "482\n"
     ]
    }
   ],
   "source": [
    "total = sum(l)\n",
    "print(total)\n",
    "#print(av)\n"
   ]
  },
  {
   "cell_type": "code",
   "execution_count": 27,
   "metadata": {},
   "outputs": [
    {
     "name": "stdout",
     "output_type": "stream",
     "text": [
      "[5, 10, 34, 23, 70, 21, 44, 55, 22, 77, 87, 17, 65, 12, 33]\n"
     ]
    }
   ],
   "source": [
    "## Problem - 1\n",
    "### Removing the duplicates of the list while preserving the order.\n",
    "\n",
    "#### sol-1: using another list\n",
    "\n",
    "l=[5,10,34,23,70,21,44,55,22,77,87,34, 5, 17,34,23,44,65,70,12,87,21,33,55]\n",
    "\n",
    "l1=[]\n",
    "for i in l:\n",
    "    if i not in l1:\n",
    "        l1.append(i)\n",
    "\n",
    "print(l1)\n",
    "\n",
    "\n"
   ]
  },
  {
   "cell_type": "code",
   "execution_count": 36,
   "metadata": {},
   "outputs": [
    {
     "name": "stdout",
     "output_type": "stream",
     "text": [
      "[5, 10, 34, 23, 70, 21, 44, 55, 22, 77, 87, 17, 65, 12, 33]\n"
     ]
    }
   ],
   "source": [
    "#### sol-2: using same list\n",
    "\n",
    "## Problem - 1\n",
    "### Removing the duplicates of the list while preserving the order.\n",
    "\n",
    "#### sol-1: using another list\n",
    "\n",
    "l2=[5,10,34,23,70,21,44,55,22,77,87,34, 5, 17,34,23,44,65,70,12,87,21,33,55]\n",
    "\n",
    "\n",
    "i = 0\n",
    "while i<len(l2):\n",
    "    if l2.index(l2[i]) !=i :\n",
    "        del l2[i]\n",
    "    else:\n",
    "        i +=1\n",
    "\n",
    "print(l2)\n",
    "\n"
   ]
  },
  {
   "cell_type": "code",
   "execution_count": 35,
   "metadata": {},
   "outputs": [
    {
     "data": {
      "text/plain": [
       "2"
      ]
     },
     "execution_count": 35,
     "metadata": {},
     "output_type": "execute_result"
    }
   ],
   "source": [
    "l.index(l[11])"
   ]
  },
  {
   "cell_type": "code",
   "execution_count": 52,
   "metadata": {},
   "outputs": [
    {
     "name": "stdout",
     "output_type": "stream",
     "text": [
      "[1, 2, 3, 4, 3, 2, 3, 10]\n"
     ]
    }
   ],
   "source": [
    "## problem : 3 --> Flatten a nested list\n",
    "\n",
    "#### [1, [2,3], 4, [3,2,3], 10] --> [1,2,3,4,3,2,3,10]\n",
    "\n",
    "l_f =  [1, [2,3], 4, [3,2,3], 10]\n",
    "\n",
    "f_l =[]\n",
    "\n",
    "for l in l_f:\n",
    "    if type(l) == list:\n",
    "        for i in l:\n",
    "            f_l.append(i)\n",
    "    else:\n",
    "        f_l.append(l)\n",
    "\n",
    "print(f_l)\n",
    "\n",
    "\n",
    "\n"
   ]
  },
  {
   "cell_type": "code",
   "execution_count": null,
   "metadata": {},
   "outputs": [],
   "source": [
    "## The above function works very well for 1-level of nested list.\n",
    "## however, this will fails when multi-level nesting is available inside the list.\n",
    "## how to handle such scenario.\n",
    "## Recursion:\n"
   ]
  },
  {
   "cell_type": "code",
   "execution_count": null,
   "metadata": {},
   "outputs": [],
   "source": [
    "def flatten(lst):\n",
    "    result = []\n",
    "    for item in lst:\n",
    "        if isinstance(item, list):\n",
    "            result.extend(flatten(item))\n",
    "        else:\n",
    "            result.append(item)\n",
    "    return result\n",
    "\n",
    "l_f = [1, [2,3], 4, [3,2,[3,5]], 10]\n",
    "print(flatten(l_f))\n"
   ]
  },
  {
   "cell_type": "code",
   "execution_count": null,
   "metadata": {},
   "outputs": [],
   "source": []
  },
  {
   "cell_type": "code",
   "execution_count": 53,
   "metadata": {},
   "outputs": [
    {
     "name": "stdout",
     "output_type": "stream",
     "text": [
      "False\n",
      "True\n",
      "False\n",
      "True\n",
      "False\n"
     ]
    }
   ],
   "source": [
    "l_f = [1, [2,3], 4, [3,2,[3,5]], 10]\n",
    "\n",
    "for item in l_f:\n",
    "    print(isinstance(item, list))\n"
   ]
  },
  {
   "cell_type": "code",
   "execution_count": null,
   "metadata": {},
   "outputs": [],
   "source": [
    "## Count the frquency of elements in a list using dictionary."
   ]
  },
  {
   "cell_type": "code",
   "execution_count": 58,
   "metadata": {},
   "outputs": [
    {
     "name": "stdout",
     "output_type": "stream",
     "text": [
      "keys\n",
      "5\n",
      "7\n",
      "3\n",
      "4\n",
      "values\n",
      "3\n",
      "5\n",
      "2\n",
      "5\n",
      "key value pairs\n",
      "5 3\n",
      "7 5\n",
      "3 2\n",
      "4 5\n"
     ]
    }
   ],
   "source": [
    "my_dict = {5:3,7:5, 3:2, 4:5}\n",
    "\n",
    "print(\"keys\")\n",
    "for i in my_dict:\n",
    "    print(i)\n",
    "\n",
    "print(\"values\")\n",
    "for i in my_dict:\n",
    "    print(my_dict[i])\n",
    "\n",
    "print(\"key value pairs\")\n",
    "\n",
    "for key, value in my_dict.items():\n",
    "    print(key, value)"
   ]
  },
  {
   "cell_type": "code",
   "execution_count": 59,
   "metadata": {},
   "outputs": [
    {
     "name": "stdout",
     "output_type": "stream",
     "text": [
      "2 2\n",
      "3 2\n",
      "4 2\n",
      "5 3\n",
      "7 1\n",
      "6 3\n",
      "8 1\n",
      "19 2\n",
      "23 2\n",
      "34 1\n",
      "21 1\n"
     ]
    }
   ],
   "source": [
    "l = [2,3,4,5,2,3,7,6,6,5,8,19,23,4,5,6,34,23,21,19]\n",
    "\n",
    "c_l = {}\n",
    "for i in l:\n",
    "    if i in c_l:\n",
    "        c_l[i] = c_l[i]+1\n",
    "    else:\n",
    "        c_l[i] = 1\n",
    "\n",
    "\n",
    "for key, value in c_l.items():\n",
    "    print(key, value)\n",
    "        \n"
   ]
  },
  {
   "cell_type": "code",
   "execution_count": 69,
   "metadata": {},
   "outputs": [
    {
     "name": "stdout",
     "output_type": "stream",
     "text": [
      "{1: 8, 5: 4, 7: 10, 3: 7, 21: 46, 'mango': 40, 'apple': 74, 'banana': 75}\n"
     ]
    }
   ],
   "source": [
    "## Problem-5 : Merge two dictionaries, if a key exists in both, add their value.\n",
    "\n",
    "d1 = {1:3, 5:4, 7:10, 3:7, 21: 42, \"mango\": 32, \"apple\":74}\n",
    "d2 = {1:5, 21: 4, \"mango\": 8, \"banana\":75}\n",
    "\n",
    "\n",
    "for key, value in d1.items():\n",
    "    if key in d2:\n",
    "        d1[key] = d1[key] + d2[key]\n",
    "        del(d2[key])\n",
    "\n",
    "d1 = d1 | d2\n",
    "\n",
    "print(d1)\n",
    "\n"
   ]
  },
  {
   "cell_type": "code",
   "execution_count": 65,
   "metadata": {},
   "outputs": [
    {
     "name": "stdout",
     "output_type": "stream",
     "text": [
      "{'banana': 75}\n"
     ]
    }
   ],
   "source": [
    "print(d2)"
   ]
  },
  {
   "cell_type": "code",
   "execution_count": 67,
   "metadata": {},
   "outputs": [],
   "source": [
    "d1 = d1 | d2"
   ]
  },
  {
   "cell_type": "code",
   "execution_count": 68,
   "metadata": {},
   "outputs": [
    {
     "name": "stdout",
     "output_type": "stream",
     "text": [
      "{1: 8, 5: 4, 7: 10, 3: 7, 21: 46, 'mango': 40, 'apple': 74, 'banana': 75}\n"
     ]
    }
   ],
   "source": [
    "print(d1)"
   ]
  },
  {
   "cell_type": "code",
   "execution_count": 72,
   "metadata": {},
   "outputs": [
    {
     "name": "stdout",
     "output_type": "stream",
     "text": [
      "Alice 24\n",
      "Bob 22\n",
      "Charlie 23\n"
     ]
    }
   ],
   "source": [
    "## Problem - 6 : sort a list of tuples by the second element.\n",
    "\n",
    "students = [(\"Alice\", 24), (\"Bob\", 22), (\"Charlie\", 23)]\n",
    "\n",
    "for i,j in students:\n",
    "    print(i, j)\n",
    "    "
   ]
  },
  {
   "cell_type": "code",
   "execution_count": 73,
   "metadata": {},
   "outputs": [
    {
     "name": "stdout",
     "output_type": "stream",
     "text": [
      "('Alice', 24)\n",
      "('Bob', 22)\n",
      "('Charlie', 23)\n"
     ]
    }
   ],
   "source": [
    "for i in students:\n",
    "    print(i)"
   ]
  },
  {
   "cell_type": "code",
   "execution_count": 76,
   "metadata": {},
   "outputs": [
    {
     "name": "stdout",
     "output_type": "stream",
     "text": [
      "None\n",
      "[('Bob', 22), ('Charlie', 23), ('Alice', 24)]\n"
     ]
    }
   ],
   "source": [
    "print(students.sort(key=lambda x : x[1]))\n",
    "\n",
    "print(students)"
   ]
  },
  {
   "cell_type": "code",
   "execution_count": 77,
   "metadata": {},
   "outputs": [
    {
     "data": {
      "text/plain": [
       "1"
      ]
     },
     "execution_count": 77,
     "metadata": {},
     "output_type": "execute_result"
    }
   ],
   "source": [
    "students.index(('Charlie', 23))"
   ]
  },
  {
   "cell_type": "code",
   "execution_count": null,
   "metadata": {},
   "outputs": [],
   "source": [
    "## Group a list of dictionaries by a common key\n",
    "employees = [\n",
    "    {\"name\": \"Alice\", \"department\": \"HR\", \"age\": 30},\n",
    "    {\"name\": \"Bob\", \"department\": \"IT\", \"age\": 25},\n",
    "    {\"name\": \"Charlie\", \"department\": \"HR\", \"age\": 28},\n",
    "    {\"name\": \"David\", \"department\": \"Finance\", \"age\": 35},\n",
    "    {\"name\": \"Eva\", \"department\": \"IT\", \"age\": 26},\n",
    "    {\"name\": \"Frank\", \"department\": \"Finance\", \"age\": 40},\n",
    "]\n"
   ]
  },
  {
   "cell_type": "code",
   "execution_count": 79,
   "metadata": {},
   "outputs": [
    {
     "name": "stdout",
     "output_type": "stream",
     "text": [
      "[('name', 'Alice'), ('age', 30), ('city', 'New York')]\n"
     ]
    }
   ],
   "source": [
    "## Convert a dictionaries into list of tuples and vice versa.\n",
    "\n",
    "person = {\"name\": \"Alice\", \"age\": 30, \"city\": \"New York\"}\n",
    "\n",
    "tuple_list = list(person.items())\n",
    "\n",
    "print(tuple_list)"
   ]
  },
  {
   "cell_type": "code",
   "execution_count": 80,
   "metadata": {},
   "outputs": [
    {
     "name": "stdout",
     "output_type": "stream",
     "text": [
      "{'name': 'Alice', 'age': 30, 'city': 'New York'}\n"
     ]
    }
   ],
   "source": [
    "dict_person = dict(tuple_list)\n",
    "\n",
    "print(dict_person)"
   ]
  }
 ],
 "metadata": {
  "kernelspec": {
   "display_name": "Python 3",
   "language": "python",
   "name": "python3"
  },
  "language_info": {
   "codemirror_mode": {
    "name": "ipython",
    "version": 3
   },
   "file_extension": ".py",
   "mimetype": "text/x-python",
   "name": "python",
   "nbconvert_exporter": "python",
   "pygments_lexer": "ipython3",
   "version": "3.12.0"
  }
 },
 "nbformat": 4,
 "nbformat_minor": 2
}
