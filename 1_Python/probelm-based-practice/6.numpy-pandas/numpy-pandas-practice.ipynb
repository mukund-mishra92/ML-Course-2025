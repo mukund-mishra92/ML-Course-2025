{
 "cells": [
  {
   "cell_type": "markdown",
   "metadata": {},
   "source": [
    "| #  | Problem                                                                 |\n",
    "| -- | ----------------------------------------------------------------------- |\n",
    "| 1  | **Create a 2D NumPy array of random numbers and compute row-wise sum.** |\n",
    "| 2  | **Filter out even numbers from a NumPy array.**                         |\n",
    "| 3  | **Replace all NaNs in a Pandas DataFrame with column mean.**            |\n",
    "| 4  | **Group a DataFrame by a column and compute mean/sum of others.**       |\n",
    "| 5  | **Merge two DataFrames on a key column.**                               |\n",
    "| 6  | **Sort a DataFrame by multiple columns.**                               |\n",
    "| 7  | **Pivot a DataFrame and compute aggregates.**                           |\n",
    "| 8  | **Use `.apply()` to normalize values in a column.**                     |\n",
    "| 9  | **Load a CSV and filter rows by a condition (e.g., salary > 50K).**     |\n",
    "| 10 | **Generate rolling averages from a time-series column.**                |\n"
   ]
  },
  {
   "cell_type": "code",
   "execution_count": 1,
   "metadata": {},
   "outputs": [
    {
     "data": {
      "text/plain": [
       "array([[0.80444012, 0.31210436, 0.91268064, 0.65816366],\n",
       "       [0.74949935, 0.49635289, 0.56821901, 0.96359672],\n",
       "       [0.04669142, 0.38978497, 0.466436  , 0.27890632]])"
      ]
     },
     "execution_count": 1,
     "metadata": {},
     "output_type": "execute_result"
    }
   ],
   "source": [
    "import numpy as np \n",
    "\n",
    "a = np.random.rand(3,4)\n",
    "a"
   ]
  },
  {
   "cell_type": "code",
   "execution_count": 2,
   "metadata": {},
   "outputs": [
    {
     "name": "stdout",
     "output_type": "stream",
     "text": [
      "2.6873887684731903\n",
      "2.777667964581616\n",
      "1.1818187097173798\n"
     ]
    }
   ],
   "source": [
    "for i in a:\n",
    "    print(np.sum(i))"
   ]
  },
  {
   "cell_type": "code",
   "execution_count": 3,
   "metadata": {},
   "outputs": [
    {
     "data": {
      "text/plain": [
       "6.646875442772187"
      ]
     },
     "execution_count": 3,
     "metadata": {},
     "output_type": "execute_result"
    }
   ],
   "source": [
    "np.sum(a)"
   ]
  },
  {
   "cell_type": "code",
   "execution_count": 18,
   "metadata": {},
   "outputs": [
    {
     "name": "stdout",
     "output_type": "stream",
     "text": [
      "12\n",
      "58\n",
      "4\n",
      "40\n",
      "64\n",
      "62\n",
      "16\n",
      "92\n",
      "66\n",
      "10\n",
      "80\n",
      "74\n",
      "68\n",
      "80\n",
      "78\n",
      "76\n",
      "60\n",
      "78\n",
      "38\n"
     ]
    }
   ],
   "source": [
    "## problem-2: filter out even numbers from a numpy array\n",
    "\n",
    "arr = np.random.randint(1,100,(5,8))\n",
    "#arr\n",
    "\n",
    "for i in arr:\n",
    "    for j in i:\n",
    "        if j%2==0:\n",
    "            print(j)"
   ]
  },
  {
   "cell_type": "code",
   "execution_count": 19,
   "metadata": {},
   "outputs": [
    {
     "data": {
      "text/plain": [
       "array([80, 80, 84,  8, 88, 56, 44, 74, 98, 76, 16, 74, 56, 36, 18, 28, 30,\n",
       "       64, 64])"
      ]
     },
     "execution_count": 19,
     "metadata": {},
     "output_type": "execute_result"
    }
   ],
   "source": [
    "## Vectorized method to get even numbers.\n",
    "\n",
    "arr = np.random.randint(1,100,(5,8))\n",
    "\n",
    "even_numbers = arr[arr%2==0]\n",
    "even_numbers"
   ]
  },
  {
   "cell_type": "code",
   "execution_count": 13,
   "metadata": {},
   "outputs": [
    {
     "data": {
      "text/plain": [
       "array([[0.60894236, 0.11927906, 0.69323953, 0.86740667, 0.31375548,\n",
       "        0.94089414, 0.07861556, 0.93233126],\n",
       "       [0.41527532, 0.72241572, 0.7194417 , 0.84421637, 0.68965774,\n",
       "        0.41519423, 0.08804725, 0.06524624],\n",
       "       [0.06026391, 0.82304051, 0.85003142, 0.29606763, 0.75724135,\n",
       "        0.76064422, 0.52186507, 0.71662006],\n",
       "       [0.3403031 , 0.39477638, 0.98313623, 0.61758739, 0.91725975,\n",
       "        0.32886643, 0.32938098, 0.25055965],\n",
       "       [0.1405484 , 0.56730099, 0.4730434 , 0.79723228, 0.67101002,\n",
       "        0.82354063, 0.81537189, 0.05319912]])"
      ]
     },
     "execution_count": 13,
     "metadata": {},
     "output_type": "execute_result"
    }
   ],
   "source": [
    "arr = np.random.rand(5,8)\n",
    "arr"
   ]
  },
  {
   "cell_type": "code",
   "execution_count": null,
   "metadata": {},
   "outputs": [],
   "source": []
  },
  {
   "cell_type": "code",
   "execution_count": null,
   "metadata": {},
   "outputs": [],
   "source": []
  }
 ],
 "metadata": {
  "kernelspec": {
   "display_name": "base",
   "language": "python",
   "name": "python3"
  },
  "language_info": {
   "codemirror_mode": {
    "name": "ipython",
    "version": 3
   },
   "file_extension": ".py",
   "mimetype": "text/x-python",
   "name": "python",
   "nbconvert_exporter": "python",
   "pygments_lexer": "ipython3",
   "version": "3.10.9"
  }
 },
 "nbformat": 4,
 "nbformat_minor": 2
}
