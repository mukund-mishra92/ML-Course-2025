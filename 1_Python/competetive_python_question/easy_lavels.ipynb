{
 "cells": [
  {
   "cell_type": "markdown",
   "metadata": {},
   "source": [
    "### Problem-1\n",
    "#### Given an integer array nums, return all the triplets [nums[i], nums[j], nums[k]] \n",
    "#### such that i != j, i != k, and j != k, and nums[i] + nums[j] + nums[k] == 0.\n",
    "#### Notice that the solution set must not contain duplicate triplets.\n",
    "\n",
    "##### Input: nums = [-1,0,1,2,-1,-4]\n",
    "##### Output: [[-1,-1,2],[-1,0,1]]\n"
   ]
  },
  {
   "cell_type": "code",
   "execution_count": 2,
   "metadata": {},
   "outputs": [
    {
     "name": "stdout",
     "output_type": "stream",
     "text": [
      "-1\n",
      "0\n",
      "1\n",
      "2\n",
      "-1\n",
      "-4\n"
     ]
    }
   ],
   "source": [
    "def triplet(arr):\n",
    "    a = len(arr)\n",
    "    b = 0\n",
    "    for i in range(0, len(arr)):\n",
    "        if (arr[i]+ )\n",
    "        #print(arr[i])\n",
    "\n",
    "arr = [-1,0,1,2,-1,-4]\n",
    "\n",
    "triplet(arr)\n"
   ]
  },
  {
   "cell_type": "code",
   "execution_count": 12,
   "metadata": {},
   "outputs": [
    {
     "name": "stdout",
     "output_type": "stream",
     "text": [
      "[[-1, 1], [0, 0]]\n"
     ]
    }
   ],
   "source": [
    "## two sum problem for the same arry\n",
    "\n",
    "arr = [-1,0,1,2,-1,-4]\n",
    "def duplate(arr):\n",
    "    l = len(arr)\n",
    "\n",
    "    a = 0\n",
    "    result = []\n",
    "\n",
    "\n",
    "\n",
    "    while(a<len(arr)):\n",
    "        for i in arr:\n",
    "            if arr[a] + i == 0:\n",
    "                res1 = [arr[a], i]\n",
    "                res1 = sorted(res1)\n",
    "                if res1 not in result:\n",
    "                    result.append(res1)\n",
    "        a=a+1\n",
    "\n",
    "    return result\n",
    "\n",
    "print(duplate(arr))\n"
   ]
  },
  {
   "cell_type": "code",
   "execution_count": 13,
   "metadata": {},
   "outputs": [
    {
     "name": "stdout",
     "output_type": "stream",
     "text": [
      "[0, 2]\n"
     ]
    }
   ],
   "source": [
    "def two_sum(nums, target):\n",
    "    lookup = {}  # maps number -> index\n",
    "    for i, num in enumerate(nums):\n",
    "        complement = target - num\n",
    "        if complement in lookup:\n",
    "            return [lookup[complement], i]\n",
    "        lookup[num] = i\n",
    "\n",
    "arr = [-1,0,1,2,-1,-4]\n",
    "print(two_sum(arr, 0))"
   ]
  },
  {
   "cell_type": "code",
   "execution_count": 21,
   "metadata": {},
   "outputs": [
    {
     "data": {
      "text/plain": [
       "[[-1, 1], [0, 0]]"
      ]
     },
     "execution_count": 21,
     "metadata": {},
     "output_type": "execute_result"
    }
   ],
   "source": [
    "arr = [-1,0,1,2,-1,-4]\n",
    "seen = set(arr)\n",
    "seen\n",
    "result = set()\n",
    "\n",
    "for num in arr:\n",
    "    if -num in seen and num <=0:\n",
    "        result.add((num, -num))\n",
    "#print(result)\n",
    "\n",
    "l = [list(p) for p in result]\n",
    "l"
   ]
  },
  {
   "cell_type": "code",
   "execution_count": 40,
   "metadata": {},
   "outputs": [],
   "source": [
    "def threeSum(nums):\n",
    "        seen = set(nums)\n",
    "        result = []\n",
    "\n",
    "        for i in range(0,len(nums)):\n",
    "            for j in range(i, len(nums)):\n",
    "                if -(nums[i]+ nums[j]) in seen and nums[i]+nums[j] <= 0 and i!=j :\n",
    "                    res1 = [nums[i], nums[j], -(nums[i]+nums[j])]\n",
    "                    res1 = sorted(res1)\n",
    "                    if res1 not in result:\n",
    "                        result.append(res1)\n",
    "        return result\n",
    "\n",
    "\n"
   ]
  },
  {
   "cell_type": "code",
   "execution_count": 42,
   "metadata": {},
   "outputs": [
    {
     "name": "stdout",
     "output_type": "stream",
     "text": [
      "[[-2, 1, 1]]\n"
     ]
    }
   ],
   "source": [
    "#nums = [-1,0,1,2,-1,-4]\n",
    "nums = [3,-2,1,0]\n",
    "print(threeSum(nums))"
   ]
  },
  {
   "cell_type": "code",
   "execution_count": 43,
   "metadata": {},
   "outputs": [
    {
     "name": "stdout",
     "output_type": "stream",
     "text": [
      "3\n"
     ]
    }
   ],
   "source": [
    "s=\"abc\"\n",
    "print(len(s))"
   ]
  },
  {
   "cell_type": "code",
   "execution_count": 56,
   "metadata": {},
   "outputs": [
    {
     "ename": "TypeError",
     "evalue": "'<' not supported between instances of 'int' and 'str'",
     "output_type": "error",
     "traceback": [
      "\u001b[0;31m---------------------------------------------------------------------------\u001b[0m",
      "\u001b[0;31mTypeError\u001b[0m                                 Traceback (most recent call last)",
      "Cell \u001b[0;32mIn[56], line 29\u001b[0m\n\u001b[1;32m     25\u001b[0m         \u001b[38;5;28;01mreturn\u001b[39;00m lcp\n\u001b[1;32m     28\u001b[0m strs \u001b[38;5;241m=\u001b[39m [\u001b[38;5;124m\"\u001b[39m\u001b[38;5;124mflower\u001b[39m\u001b[38;5;124m\"\u001b[39m,\u001b[38;5;124m\"\u001b[39m\u001b[38;5;124mflow\u001b[39m\u001b[38;5;124m\"\u001b[39m,\u001b[38;5;124m\"\u001b[39m\u001b[38;5;124mflight\u001b[39m\u001b[38;5;124m\"\u001b[39m]\n\u001b[0;32m---> 29\u001b[0m \u001b[38;5;28mprint\u001b[39m(\u001b[43mlongestCommonPrefix\u001b[49m\u001b[43m(\u001b[49m\u001b[43mstrs\u001b[49m\u001b[43m)\u001b[49m)\n",
      "Cell \u001b[0;32mIn[56], line 10\u001b[0m, in \u001b[0;36mlongestCommonPrefix\u001b[0;34m(strs)\u001b[0m\n\u001b[1;32m      8\u001b[0m min_index \u001b[38;5;241m=\u001b[39m \u001b[38;5;241m0\u001b[39m\n\u001b[1;32m      9\u001b[0m \u001b[38;5;28;01mfor\u001b[39;00m i \u001b[38;5;129;01min\u001b[39;00m \u001b[38;5;28mrange\u001b[39m(\u001b[38;5;28mlen\u001b[39m(strs)):\n\u001b[0;32m---> 10\u001b[0m      \u001b[38;5;28;01mif\u001b[39;00m \u001b[38;5;28;43mlen\u001b[39;49m\u001b[43m(\u001b[49m\u001b[43mstrs\u001b[49m\u001b[43m[\u001b[49m\u001b[43mi\u001b[49m\u001b[43m]\u001b[49m\u001b[43m)\u001b[49m\u001b[38;5;241;43m<\u001b[39;49m\u001b[38;5;28;43mmin\u001b[39;49m :\n\u001b[1;32m     11\u001b[0m           \u001b[38;5;28mmin\u001b[39m\u001b[38;5;241m=\u001b[39mstrs[i]\n\u001b[1;32m     12\u001b[0m           min_index \u001b[38;5;241m=\u001b[39m i\n",
      "\u001b[0;31mTypeError\u001b[0m: '<' not supported between instances of 'int' and 'str'"
     ]
    }
   ],
   "source": [
    "def longestCommonPrefix(strs):\n",
    "        \n",
    "        \n",
    "             \n",
    "        lcp = \"\"\n",
    "        f = False\n",
    "        m = 1000000\n",
    "        min_index = 0\n",
    "        for i in range(len(strs)):\n",
    "             if len(strs[i])< m :\n",
    "                  min=strs[i]\n",
    "                  min_index = i\n",
    "             \n",
    "        for i in range(m):\n",
    "            for j in range(0, len(strs)):\n",
    "                  #print(strs[j][i])\n",
    "                if strs[j][i].startswith(strs[min_index][:i]):\n",
    "                    print(True)\n",
    "                    f = True\n",
    "                else:\n",
    "                    f = False \n",
    "            if f:\n",
    "                lcp = strs[0][0:i]\n",
    "\n",
    "        return lcp\n",
    "\n",
    "\n",
    "strs = [\"flower\",\"flow\",\"flight\"]\n",
    "print(longestCommonPrefix(strs))\n",
    "\n"
   ]
  },
  {
   "cell_type": "code",
   "execution_count": 45,
   "metadata": {},
   "outputs": [
    {
     "name": "stdout",
     "output_type": "stream",
     "text": [
      "a\n",
      "b\n",
      "c\n"
     ]
    }
   ],
   "source": [
    "for i in range(0, len(s)):\n",
    "    print(s[i])"
   ]
  },
  {
   "cell_type": "code",
   "execution_count": 30,
   "metadata": {},
   "outputs": [
    {
     "name": "stdout",
     "output_type": "stream",
     "text": [
      "{(-1, 0, 1), (0, -1, 1), (-1, -1, 2), (2, -4, 2), (0, 0, 0), (-1, 1, 0), (1, -1, 0)}\n"
     ]
    }
   ],
   "source": [
    "arr = [-1,0,1,2,-1,-4]\n",
    "seen = set(arr)\n",
    "result = set()\n",
    "for i in range(0, len(arr)):\n",
    "    for j in range(i, len(arr)):\n",
    "        if -(arr[i]+arr[j]) in seen and arr[i]+arr[j] <=0:\n",
    "            res1 = (arr[i], arr[j], -(arr[i]+arr[j]))\n",
    "            result.add(res1)\n",
    "\n",
    "            \n",
    "print(result)\n",
    "\n"
   ]
  },
  {
   "cell_type": "code",
   "execution_count": null,
   "metadata": {},
   "outputs": [],
   "source": [
    "arr = [-1,0,1,2,-1,-4]\n",
    "seen = set(arr)\n",
    "result = []\n",
    "for i in range(0, len(arr)):\n",
    "    for j in range(i, len(arr)):\n",
    "        if -(arr[i]+arr[j]) in arr and arr[i]+arr[j] <=0:\n",
    "            res1 = [arr[i], arr[j], -(arr[i]+arr[j])]\n",
    "            res1 = sorted(res1)\n",
    "            if res1 not in result:\n",
    "                result.append(res1)\n",
    "print(result)\n",
    "\n"
   ]
  },
  {
   "cell_type": "code",
   "execution_count": 18,
   "metadata": {},
   "outputs": [
    {
     "name": "stdout",
     "output_type": "stream",
     "text": [
      "[[-1, 1], [0, 0]]\n"
     ]
    }
   ],
   "source": [
    "def find_zero_sum_pairs(nums):\n",
    "    seen = set(nums)\n",
    "    result = set()\n",
    "\n",
    "    for num in nums:\n",
    "        if -num in seen and num <=0:  # to avoid duplicates like (1,-1) and (-1,1)\n",
    "            result.add((num, -num))\n",
    "    \n",
    "    return [list(pair) for pair in result]\n",
    "\n",
    "arr = [-1,0,1,2,-1,-4]\n",
    "print(find_zero_sum_pairs(arr))\n"
   ]
  },
  {
   "cell_type": "code",
   "execution_count": null,
   "metadata": {},
   "outputs": [],
   "source": []
  },
  {
   "cell_type": "code",
   "execution_count": 10,
   "metadata": {},
   "outputs": [
    {
     "name": "stdout",
     "output_type": "stream",
     "text": [
      "False\n"
     ]
    }
   ],
   "source": [
    "l = [[1,2], [2,1], [3,1]]\n",
    "l1 = [1,5]\n",
    "\n",
    "print(l1 in l)\n",
    "\n"
   ]
  }
 ],
 "metadata": {
  "kernelspec": {
   "display_name": "base",
   "language": "python",
   "name": "python3"
  },
  "language_info": {
   "codemirror_mode": {
    "name": "ipython",
    "version": 3
   },
   "file_extension": ".py",
   "mimetype": "text/x-python",
   "name": "python",
   "nbconvert_exporter": "python",
   "pygments_lexer": "ipython3",
   "version": "3.10.9"
  }
 },
 "nbformat": 4,
 "nbformat_minor": 2
}
