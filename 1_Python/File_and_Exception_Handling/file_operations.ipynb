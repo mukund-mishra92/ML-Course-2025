{
 "cells": [
  {
   "cell_type": "code",
   "execution_count": 1,
   "metadata": {},
   "outputs": [
    {
     "name": "stdout",
     "output_type": "stream",
     "text": [
      "# Announcement-on-ML\n",
      "<a href='http://www.kgptalkie.com' target=\"_blank\"> <img src='https://github.com/laxmimerit/Important-Announcement-on-ML/raw/master/kgptalkie_strips.png'/></a>\n",
      "\n",
      "# ML Resources\n",
      "|  ML Course | Description |\n",
      "|:---|:---|\n",
      "| [**Fine Tuning LLM with HuggingFace Transformers for NLP**](https://www.udemy.com/course/fine-tuning-llm-with-hugging-face-transformers/?referralCode=6DEB3BE17C2644422D8E) | Learn how to fine tune LLM with custom dataset. You will learn basics of transformers then fine tune LLM|\n",
      "| [**Data Visualization in Python Masterclass™: Beginners to Pro**](https://bit.ly/udemy95off_kgptalkie) |  Learn to build Machine Learning and Deep Learning models using Python and its libraries like Scikit-Learn, Keras, and TensorFlow. |\n",
      "| [**Python for Machine Learning: A Step-by-Step Guide**](https://bit.ly/ml-ds-project) | Learn to build Machine Learning and Deep Learning models using Python and its libraries like Scikit-Learn, Keras, and TensorFlow. |\n",
      "| [**Deep Learning for Beginners with Python**](https://bit.ly/dl-with-python) | Neural Networks, TensorFlow, ANN, CNN, RNN, LSTM, Transfer Learning and Much More. |\n",
      "| [**Python for Linear Regression in Machine Learning**](https://bit.ly/regression-python) | Learn to build Linear Regression models using Python and its libraries like Scikit-Learn. |\n",
      "| [**Introduction to Spacy 3 for Natural Language Processing**](https://bit.ly/spacy-intro) | Learn to build Natural Language Processing models using Python and its libraries like Spacy. |\n",
      "| [**Advanced Machine Learning and Deep Learning Projects**](https://bit.ly/kgptalkie_ml_projects) | Learn to build Advanced Machine Learning and Deep Learning models using Python and transformer models like BERT, GPT-2, and XLNet. |\n",
      "| [**Natural Language Processing in Python for Beginners**](https://bit.ly/intro_nlp) | Learn to build Natural Language Processing Projects using Spacy, NLTK, and Gensim, and transformer models like BERT, GPT-2, and XLNet. |\n",
      "| [**Deployment of Machine Learning Models in Production in Python**](https://bit.ly/bert_nlp) |  Learn to deploy Machine Learning and Deep Learning models using Python and its libraries like Flask, Streamlit, and NGINX. |\n",
      "| [**R 4.0 Programming for Data Science - Beginners to Pro**](https://bit.ly/r4-ml) | Learn to build Machine Learning and Deep Learning models using R and its libraries like caret, tidyverse, and keras. |\n",
      "\n"
     ]
    }
   ],
   "source": [
    "## read the file\n",
    "\n",
    "with open('/Users/balmukundmishra/Desktop/ML-Course/Datasets/README.md', 'r') as file:\n",
    "    md_file_read = file.read()\n",
    "    print(md_file_read)"
   ]
  },
  {
   "cell_type": "code",
   "execution_count": 14,
   "metadata": {},
   "outputs": [],
   "source": [
    "## read and write the file into new file\n",
    "\n",
    "with open('/Users/balmukundmishra/Desktop/ML-Course/Datasets/README.md', 'r') as files:\n",
    "    fiel_to_write = files.read()\n",
    "with open('example.txt', 'w') as f:\n",
    "    f.write(fiel_to_write)"
   ]
  },
  {
   "cell_type": "code",
   "execution_count": 6,
   "metadata": {},
   "outputs": [],
   "source": [
    "with open('example.txt', 'w') as file:\n",
    "    file.write('Hello, I am Balmukund Mishra\\n')\n",
    "    file.write('I have done my PhD in Artififcal Intellegence and Machine Learning based Reseacrh and Development\\n')\n",
    "    file.write('Now, i am working in Drishya.Ai as Lead(Senior Data scoentist, since 2021')\n"
   ]
  },
  {
   "cell_type": "code",
   "execution_count": 7,
   "metadata": {},
   "outputs": [],
   "source": [
    "with open('example.txt', 'a') as file:\n",
    "    file.write('Hello, I am Balmukund Mishra\\n')\n",
    "    file.write('I have done my PhD in Artififcal Intellegence and Machine Learning based Reseacrh and Development\\n')\n",
    "    file.write('Now, i am working in Drishya.Ai as Lead(Senior Data scoentist, since 2021')\n"
   ]
  },
  {
   "cell_type": "code",
   "execution_count": 13,
   "metadata": {},
   "outputs": [],
   "source": [
    "with open('example.txt', 'a') as file:\n",
    "    file.write('\\nHello, I am Balmukund Mishra\\n')\n",
    "    file.write('I have done my PhD in Artififcal Intellegence and Machine Learning based Reseacrh and Development\\n')\n",
    "    file.write('Now, i am working in Drishya.Ai as Lead(Senior Data Scientist, since 2021\\n')\n"
   ]
  },
  {
   "cell_type": "code",
   "execution_count": 37,
   "metadata": {},
   "outputs": [],
   "source": [
    "## Rading and writing line-by line\n",
    "\n",
    "with open('example.txt', 'r') as file:\n",
    "    text = file.read()\n",
    "    #print(text)\n",
    "\n",
    "#text = text.split()\n",
    "#print(text)\n",
    "\n",
    "text1 = text.split('\\n')\n",
    "text1\n",
    "\n",
    "## this function will write all the list into one line.\n",
    "with open('example2.txt', 'w') as file:\n",
    "    file.writelines(text1)\n",
    "\n",
    "\n",
    "## Suppose we want to write each of the list into the seperate line of the file.buffer\n",
    "\n",
    "# with open('example2.txt', 'w') as file:\n",
    "#     for i in range(len(text1)):\n",
    "#         file.write(text1[i]+'\\n')\n",
    "#or\n",
    "with open('example2.txt', 'w') as file:\n",
    "    [file.write(line+'\\n') for line in text1]\n",
    "\n",
    "\n"
   ]
  },
  {
   "cell_type": "code",
   "execution_count": null,
   "metadata": {},
   "outputs": [],
   "source": [
    "## file.seek() , what gappen with this function"
   ]
  },
  {
   "cell_type": "code",
   "execution_count": 38,
   "metadata": {},
   "outputs": [
    {
     "name": "stdout",
     "output_type": "stream",
     "text": [
      "Directory 'files_IO_Dir' is created\n"
     ]
    }
   ],
   "source": [
    "## Craeating a new directory from here.\n",
    "import os\n",
    "directory_name = \"files_IO_Dir\"\n",
    "os.mkdir(directory_name)\n",
    "\n",
    "print(f\"Directory '{directory_name}' is created\")\n"
   ]
  },
  {
   "cell_type": "code",
   "execution_count": 39,
   "metadata": {},
   "outputs": [
    {
     "data": {
      "text/plain": [
       "['lecture-1-python.ipynb',\n",
       " 'example2.txt',\n",
       " 'list_tuple_dictionary.ipynb',\n",
       " 'list_comprehension.ipynb',\n",
       " 'example.txt',\n",
       " 'file_operations.ipynb',\n",
       " 'files_IO_Dir']"
      ]
     },
     "execution_count": 39,
     "metadata": {},
     "output_type": "execute_result"
    }
   ],
   "source": [
    "## list all the files form a directory\n",
    "\n",
    "## returns a list of all the files/ folders available in the current directory \n",
    "os.listdir('.')"
   ]
  },
  {
   "cell_type": "code",
   "execution_count": 40,
   "metadata": {},
   "outputs": [
    {
     "data": {
      "text/plain": [
       "'/Users/balmukundmishra/Desktop/ML-Course/1_Python'"
      ]
     },
     "execution_count": 40,
     "metadata": {},
     "output_type": "execute_result"
    }
   ],
   "source": [
    "# joining paths\n",
    "\n",
    "# dir_name = 'files_IO_Dire'\n",
    "# file_name = 'example.txt'\n",
    "\n",
    "# full_path = os.path.join()\n",
    "os.getcwd()"
   ]
  },
  {
   "cell_type": "code",
   "execution_count": 41,
   "metadata": {},
   "outputs": [
    {
     "data": {
      "text/plain": [
       "'/Users/balmukundmishra/Desktop/ML-Course/1_Pythonfiles_IO_Direexample.txt'"
      ]
     },
     "execution_count": 41,
     "metadata": {},
     "output_type": "execute_result"
    }
   ],
   "source": [
    "# joining paths\n",
    "\n",
    "dir_name = 'files_IO_Dire'\n",
    "file_name = 'example.txt'\n",
    "\n",
    "# full_path = os.path.join()\n",
    "os.getcwd() + dir_name + file_name"
   ]
  },
  {
   "cell_type": "code",
   "execution_count": 43,
   "metadata": {},
   "outputs": [
    {
     "name": "stdout",
     "output_type": "stream",
     "text": [
      "files_IO_Dire/example.txt\n"
     ]
    }
   ],
   "source": [
    "# joining paths\n",
    "\n",
    "dir_name = 'files_IO_Dire'\n",
    "file_name = 'example.txt'\n",
    "\n",
    "# full_path = os.path.join()\n",
    "path_to_txt = os.path.join(dir_name, file_name)\n",
    "print(path_to_txt)"
   ]
  },
  {
   "cell_type": "code",
   "execution_count": 45,
   "metadata": {},
   "outputs": [
    {
     "name": "stdout",
     "output_type": "stream",
     "text": [
      "/Users/balmukundmishra/Desktop/ML-Course/1_Python/files_IO_Dire/example.txt\n"
     ]
    }
   ],
   "source": [
    "## if we want full path\n",
    "\n",
    "dir_name = 'files_IO_Dire'\n",
    "file_name = 'example.txt'\n",
    "\n",
    "full_path = os.path.join(os.getcwd(), dir_name, file_name)\n",
    "\n",
    "print(full_path)"
   ]
  },
  {
   "cell_type": "code",
   "execution_count": 54,
   "metadata": {},
   "outputs": [
    {
     "name": "stdout",
     "output_type": "stream",
     "text": [
      "Given path 'example.txt' exists\n"
     ]
    }
   ],
   "source": [
    "## Ok, lets check if some particular path exists or not\n",
    "\n",
    "#path = '1_Python/example.txt'\n",
    "path1 = 'example.txt'\n",
    "\n",
    "#os.path.exists(path)\n",
    "\n",
    "if os.path.exists(os.path.join(os.getcwd(),path1)):\n",
    "    print(f\"Given path '{path1}' exists\")\n",
    "else:\n",
    "    print(f\"Given path '{path1}' does not exists\")\n"
   ]
  },
  {
   "cell_type": "code",
   "execution_count": 56,
   "metadata": {},
   "outputs": [
    {
     "name": "stdout",
     "output_type": "stream",
     "text": [
      "/Users/balmukundmishra/Desktop/ML-Course/1_Python/example.txt\n"
     ]
    }
   ],
   "source": [
    "## getting the absolute path\n",
    "\n",
    "relative_path = 'example.txt'\n",
    "absolute_path = os.path.abspath(relative_path)\n",
    "print(absolute_path)"
   ]
  },
  {
   "cell_type": "code",
   "execution_count": 52,
   "metadata": {},
   "outputs": [
    {
     "name": "stdout",
     "output_type": "stream",
     "text": [
      "True\n",
      "True\n",
      "False\n",
      "False\n"
     ]
    }
   ],
   "source": [
    "## Check if path is file or directory\n",
    "\n",
    "path = '/Users/balmukundmishra/Desktop/ML-Course/1_Python/example.txt' \n",
    "path1 = '/Users/balmukundmishra/Desktop/ML-Course/1_Python/files_IO_Dir'\n",
    "\n",
    "print(os.path.isfile(path))\n",
    "print(os.path.isdir(path1))\n",
    "print(os.path.isfile(path1))\n",
    "print(os.path.isdir(path))"
   ]
  },
  {
   "cell_type": "code",
   "execution_count": null,
   "metadata": {},
   "outputs": [],
   "source": []
  },
  {
   "cell_type": "code",
   "execution_count": null,
   "metadata": {},
   "outputs": [],
   "source": []
  },
  {
   "cell_type": "code",
   "execution_count": null,
   "metadata": {},
   "outputs": [],
   "source": []
  },
  {
   "cell_type": "code",
   "execution_count": null,
   "metadata": {},
   "outputs": [],
   "source": []
  },
  {
   "cell_type": "code",
   "execution_count": null,
   "metadata": {},
   "outputs": [],
   "source": []
  },
  {
   "cell_type": "code",
   "execution_count": null,
   "metadata": {},
   "outputs": [],
   "source": []
  },
  {
   "cell_type": "code",
   "execution_count": null,
   "metadata": {},
   "outputs": [],
   "source": []
  }
 ],
 "metadata": {
  "kernelspec": {
   "display_name": "base",
   "language": "python",
   "name": "python3"
  },
  "language_info": {
   "codemirror_mode": {
    "name": "ipython",
    "version": 3
   },
   "file_extension": ".py",
   "mimetype": "text/x-python",
   "name": "python",
   "nbconvert_exporter": "python",
   "pygments_lexer": "ipython3",
   "version": "3.10.9"
  }
 },
 "nbformat": 4,
 "nbformat_minor": 2
}
